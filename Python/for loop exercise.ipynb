{
 "cells": [
  {
   "cell_type": "code",
   "execution_count": 13,
   "id": "7fd5fffa",
   "metadata": {},
   "outputs": [
    {
     "name": "stdout",
     "output_type": "stream",
     "text": [
      "{'g': 2, 'o': 3, 'l': 1, 'e': 1, '.': 1, 'c': 1, 'm': 1}\n"
     ]
    }
   ],
   "source": [
    "#1\n",
    "dict={}\n",
    "str=\"google.com\"\n",
    "for i in str:\n",
    "    if i not in s1:\n",
    "        s1.append(i)\n",
    "for i in s1:\n",
    "    dict[i]=str.count(i)\n",
    "print(dict)"
   ]
  },
  {
   "cell_type": "code",
   "execution_count": 19,
   "id": "5aaea97e",
   "metadata": {},
   "outputs": [
    {
     "name": "stdout",
     "output_type": "stream",
     "text": [
      "w3se\n"
     ]
    }
   ],
   "source": [
    "#2\n",
    "ss='w3resourse'\n",
    "if len(ss)>=2:\n",
    "    print(ss[0:2]+ss[-2:])\n",
    "else:\n",
    "    print('empty string')"
   ]
  },
  {
   "cell_type": "code",
   "execution_count": 4,
   "id": "93e3d2c7",
   "metadata": {},
   "outputs": [
    {
     "name": "stdout",
     "output_type": "stream",
     "text": [
      "enter the string:ramesh\n",
      "rash\n"
     ]
    }
   ],
   "source": [
    "#2\n",
    "n=input(\"enter the string:\")\n",
    "if len(n)>=2:\n",
    "    print(n[:2]+n[-2:])\n",
    "else:\n",
    "    print(\"empty\")"
   ]
  },
  {
   "cell_type": "code",
   "execution_count": 14,
   "id": "554e6036",
   "metadata": {},
   "outputs": [
    {
     "name": "stdout",
     "output_type": "stream",
     "text": [
      "resta$t\n"
     ]
    }
   ],
   "source": [
    "#3\n",
    "s1='restart'\n",
    "a=s1[0]\n",
    "for i in s1:\n",
    "    if i==a:\n",
    "        b=s1.replace(a,'$')\n",
    "print(a+b[1:])"
   ]
  },
  {
   "cell_type": "code",
   "execution_count": 15,
   "id": "29172d8a",
   "metadata": {},
   "outputs": [
    {
     "name": "stdout",
     "output_type": "stream",
     "text": [
      "xyc abz\n"
     ]
    }
   ],
   "source": [
    "#4\n",
    "a='abc'\n",
    "b='xyz'\n",
    "print(b[:2]+a[-1]+\" \"+a[:2]+b[-1])"
   ]
  },
  {
   "cell_type": "code",
   "execution_count": 16,
   "id": "ed271dc0",
   "metadata": {},
   "outputs": [
    {
     "name": "stdout",
     "output_type": "stream",
     "text": [
      "happening\n"
     ]
    }
   ],
   "source": [
    "#5\n",
    "w='happen'\n",
    "if len(w)>=3:\n",
    "    if w[-3:]=='ing':\n",
    "        b=w.replace(w[-3:],'ly')\n",
    "        print(b)\n",
    "    else:\n",
    "        print(w+'ing')\n",
    "else:\n",
    "    print(w)"
   ]
  },
  {
   "cell_type": "code",
   "execution_count": 24,
   "id": "3a2d6ed2",
   "metadata": {
    "scrolled": true
   },
   "outputs": [
    {
     "name": "stdout",
     "output_type": "stream",
     "text": [
      "The lyrics is good!\n"
     ]
    }
   ],
   "source": [
    "#6\n",
    "a='The lyrics is not that poor!'\n",
    "p1=a.find('not')\n",
    "p2=a.find('poor')\n",
    "if p2>p1:\n",
    "    b=a.replace(a[p1:p2+4],'good')\n",
    "    print(b)\n",
    "else:\n",
    "    print(a)"
   ]
  },
  {
   "cell_type": "code",
   "execution_count": 22,
   "id": "a526fb2b",
   "metadata": {},
   "outputs": [
    {
     "name": "stdout",
     "output_type": "stream",
     "text": [
      "seeksforGeekG\n",
      "nythoP\n"
     ]
    }
   ],
   "source": [
    "#7\n",
    "def swap(string):\n",
    "    start = string[0]\n",
    "    end = string[-1]\n",
    "    swapped_string = end + string[1:-1] + start\n",
    "    print(swapped_string)\n",
    "swap(\"GeeksforGeeks\")\n",
    "swap(\"Python\")"
   ]
  },
  {
   "cell_type": "code",
   "execution_count": 26,
   "id": "103b23ca",
   "metadata": {},
   "outputs": [
    {
     "name": "stdout",
     "output_type": "stream",
     "text": [
      "enter a string:google\n",
      "eooglg\n"
     ]
    }
   ],
   "source": [
    "#7\n",
    "s=input('enter a string:')\n",
    "first=s[0]\n",
    "last=s[-1]\n",
    "print(last+s[1:-1]+s[0])"
   ]
  },
  {
   "cell_type": "code",
   "execution_count": 6,
   "id": "b09c4543",
   "metadata": {},
   "outputs": [
    {
     "name": "stdout",
     "output_type": "stream",
     "text": [
      "hluiain\n"
     ]
    }
   ],
   "source": [
    "#8\n",
    "def remove_odd_index_chars(input_string):\n",
    "    # Convert the string to a list\n",
    "    input_list = list(input_string)\n",
    "\n",
    "    # Use list comprehension to remove elements with odd index values\n",
    "    result_list = [char for i, char in enumerate(input_list) if i % 2 == 0]\n",
    "\n",
    "    # Convert the list back to a string\n",
    "    result_string = ''.join(result_list)\n",
    "\n",
    "    return result_string\n",
    "\n",
    "input_string = \"hallucination\"\n",
    "output_string = remove_odd_index_chars(input_string)\n",
    "print(output_string)"
   ]
  },
  {
   "cell_type": "code",
   "execution_count": 2,
   "id": "14ed875d",
   "metadata": {},
   "outputs": [
    {
     "name": "stdout",
     "output_type": "stream",
     "text": [
      "Enter some text: hi hello\n",
      "Input in uppercase:  HI HELLO\n",
      "Input in lowercase:  hi hello\n"
     ]
    }
   ],
   "source": [
    "#9\n",
    "str2 = input(\"Enter some text: \")\n",
    "print(\"Input in uppercase: \", str2.upper())\n",
    "print(\"Input in lowercase: \", str2.lower())"
   ]
  },
  {
   "cell_type": "code",
   "execution_count": 1,
   "id": "5ebdedd9",
   "metadata": {},
   "outputs": [
    {
     "name": "stdout",
     "output_type": "stream",
     "text": [
      "enter a string:hallucination\n",
      "onononon\n"
     ]
    }
   ],
   "source": [
    "#10\n",
    "b=input('enter a string:')\n",
    "print(b[-2:]+b[-2:]+b[-2:]+b[-2:])"
   ]
  },
  {
   "cell_type": "code",
   "execution_count": 1,
   "id": "5a8ece49",
   "metadata": {},
   "outputs": [
    {
     "name": "stdout",
     "output_type": "stream",
     "text": [
      "enter a string:python\n",
      "pyt\n"
     ]
    }
   ],
   "source": [
    "#11\n",
    "b=input('enter a string:')\n",
    "if len(b)>3:\n",
    "    print(b[:3])\n",
    "else:\n",
    "    print(b)"
   ]
  },
  {
   "cell_type": "code",
   "execution_count": null,
   "id": "97d08d9e",
   "metadata": {},
   "outputs": [],
   "source": []
  }
 ],
 "metadata": {
  "kernelspec": {
   "display_name": "Python 3 (ipykernel)",
   "language": "python",
   "name": "python3"
  },
  "language_info": {
   "codemirror_mode": {
    "name": "ipython",
    "version": 3
   },
   "file_extension": ".py",
   "mimetype": "text/x-python",
   "name": "python",
   "nbconvert_exporter": "python",
   "pygments_lexer": "ipython3",
   "version": "3.11.4"
  }
 },
 "nbformat": 4,
 "nbformat_minor": 5
}
