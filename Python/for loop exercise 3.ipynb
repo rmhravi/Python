{
 "cells": [
  {
   "cell_type": "code",
   "execution_count": 2,
   "id": "ad611237",
   "metadata": {},
   "outputs": [
    {
     "name": "stdout",
     "output_type": "stream",
     "text": [
      "Enter the string: hallucination\n",
      "Enter the substring: hallu\n",
      "Number of occurrences: 1\n"
     ]
    }
   ],
   "source": [
    "def count_substring_occurrences(str, sub):\n",
    "    count = 0\n",
    "    str_length = len(str)\n",
    "    sub_length = len(sub)\n",
    "\n",
    "    for i in range(str_length - sub_length + 1):\n",
    "        if str[i:i+sub_length] == sub:\n",
    "            count += 1\n",
    "\n",
    "    return count\n",
    "\n",
    "# Test the function\n",
    "input_str = input(\"Enter the string: \")\n",
    "input_sub = input(\"Enter the substring: \")\n",
    "print(\"Number of occurrences:\", count_substring_occurrences(input_str, input_sub))"
   ]
  },
  {
   "cell_type": "code",
   "execution_count": 5,
   "id": "601589e3",
   "metadata": {},
   "outputs": [
    {
     "name": "stdout",
     "output_type": "stream",
     "text": [
      "Enter the numbers separated by space: 2 2\n",
      "Product of all items: 4\n"
     ]
    }
   ],
   "source": [
    "from functools import reduce\n",
    "\n",
    "def multiply_list_items(lst):\n",
    "    return reduce(lambda x, y: x * y, lst)\n",
    "\n",
    "# Test the function\n",
    "input_list = list(map(int, input(\"Enter the numbers separated by space: \").split()))\n",
    "print(\"Product of all items:\", multiply_list_items(input_list))"
   ]
  },
  {
   "cell_type": "code",
   "execution_count": 6,
   "id": "e85a4191",
   "metadata": {},
   "outputs": [
    {
     "name": "stdout",
     "output_type": "stream",
     "text": [
      "Enter the numbers separated by space: 2 5 3 6 1 7\n",
      "Largest number: 7\n"
     ]
    }
   ],
   "source": [
    "def get_largest_number(lst):\n",
    "    return max(lst)\n",
    "\n",
    "# Test the function\n",
    "input_list = list(map(int, input(\"Enter the numbers separated by space: \").split()))\n",
    "print(\"Largest number:\", get_largest_number(input_list))"
   ]
  },
  {
   "cell_type": "code",
   "execution_count": null,
   "id": "dd97c51c",
   "metadata": {},
   "outputs": [],
   "source": []
  }
 ],
 "metadata": {
  "kernelspec": {
   "display_name": "Python 3 (ipykernel)",
   "language": "python",
   "name": "python3"
  },
  "language_info": {
   "codemirror_mode": {
    "name": "ipython",
    "version": 3
   },
   "file_extension": ".py",
   "mimetype": "text/x-python",
   "name": "python",
   "nbconvert_exporter": "python",
   "pygments_lexer": "ipython3",
   "version": "3.11.4"
  }
 },
 "nbformat": 4,
 "nbformat_minor": 5
}
