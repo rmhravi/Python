{
 "cells": [
  {
   "cell_type": "code",
   "execution_count": 4,
   "id": "3007448a",
   "metadata": {},
   "outputs": [
    {
     "name": "stdout",
     "output_type": "stream",
     "text": [
      "ram remya kavya\n"
     ]
    }
   ],
   "source": [
    "def print_name(b,a,c):\n",
    "    print(b,a,c)\n",
    "    \n",
    "print_name('ram','remya','kavya')"
   ]
  },
  {
   "cell_type": "code",
   "execution_count": 6,
   "id": "fe057cdf",
   "metadata": {},
   "outputs": [
    {
     "name": "stdout",
     "output_type": "stream",
     "text": [
      "remya\n"
     ]
    }
   ],
   "source": [
    "def print_name(*a):\n",
    "    print(a[1])\n",
    "    \n",
    "print_name('ram','remya','kavya')"
   ]
  },
  {
   "cell_type": "code",
   "execution_count": 10,
   "id": "139f5f74",
   "metadata": {},
   "outputs": [
    {
     "name": "stdout",
     "output_type": "stream",
     "text": [
      "ram\n"
     ]
    }
   ],
   "source": [
    "def print_name(**x):\n",
    "    print(x['a'])\n",
    "    \n",
    "print_name(a='ram',b='remya',c='kavya')"
   ]
  },
  {
   "cell_type": "code",
   "execution_count": 11,
   "id": "9639c293",
   "metadata": {},
   "outputs": [
    {
     "name": "stdout",
     "output_type": "stream",
     "text": [
      "I am from Sweden\n",
      "I am from India\n",
      "I am from Norway\n",
      "I am from Brazil\n"
     ]
    }
   ],
   "source": [
    "def my_function(country = \"Norway\"):\n",
    "    print(\"I am from \" + country)\n",
    "\n",
    "my_function(\"Sweden\")\n",
    "my_function(\"India\")\n",
    "my_function()\n",
    "my_function(\"Brazil\")"
   ]
  },
  {
   "cell_type": "code",
   "execution_count": null,
   "id": "e38fc70e",
   "metadata": {},
   "outputs": [],
   "source": []
  }
 ],
 "metadata": {
  "kernelspec": {
   "display_name": "Python 3 (ipykernel)",
   "language": "python",
   "name": "python3"
  },
  "language_info": {
   "codemirror_mode": {
    "name": "ipython",
    "version": 3
   },
   "file_extension": ".py",
   "mimetype": "text/x-python",
   "name": "python",
   "nbconvert_exporter": "python",
   "pygments_lexer": "ipython3",
   "version": "3.11.4"
  }
 },
 "nbformat": 4,
 "nbformat_minor": 5
}
