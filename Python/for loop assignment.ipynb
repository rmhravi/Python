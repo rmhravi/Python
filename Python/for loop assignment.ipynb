{
 "cells": [
  {
   "cell_type": "code",
   "execution_count": 1,
   "id": "64bdc56b",
   "metadata": {},
   "outputs": [
    {
     "name": "stdout",
     "output_type": "stream",
     "text": [
      "enter child height(in cm)160\n",
      "enter child weight(in kg)85\n",
      "eligible\n"
     ]
    }
   ],
   "source": [
    "h1=float(input('enter child height(in cm)'))\n",
    "h2=float(input('enter child weight(in kg)'))\n",
    "if h1>=120 and h2<=150:\n",
    "    print('eligible')\n",
    "else:\n",
    "    print('ineligible')"
   ]
  },
  {
   "cell_type": "code",
   "execution_count": 3,
   "id": "87af8ddc",
   "metadata": {},
   "outputs": [
    {
     "name": "stdout",
     "output_type": "stream",
     "text": [
      "enter an option A/BA\n",
      "option A is selected\n"
     ]
    }
   ],
   "source": [
    "user_input=input('enter an option A/B')\n",
    "if user_input==\"A\":\n",
    "    print(\"option A is selected\")\n",
    "elif user_input==\"B\":\n",
    "    print(\"option B is selected\")\n",
    "else:\n",
    "    print(\"invalid data\")"
   ]
  },
  {
   "cell_type": "code",
   "execution_count": 5,
   "id": "7cfb65ee",
   "metadata": {},
   "outputs": [
    {
     "name": "stdout",
     "output_type": "stream",
     "text": [
      "68.0\n"
     ]
    }
   ],
   "source": [
    "exam1_score=[36,42,64,52]\n",
    "exam2_score=[55,75,72,35]\n",
    "marks=[]\n",
    "for i in range(len(exam1_score)):\n",
    "    if exam1_score[i]>=60 and exam2_score[i]>=60:\n",
    "        marks.append(exam1_score[i])\n",
    "        marks.append(exam2_score[i])\n",
    "average=sum(marks)/len(marks)\n",
    "print(average)"
   ]
  },
  {
   "cell_type": "code",
   "execution_count": 7,
   "id": "79055580",
   "metadata": {},
   "outputs": [
    {
     "name": "stdout",
     "output_type": "stream",
     "text": [
      "no.of items=2\n",
      "10% discount\n"
     ]
    }
   ],
   "source": [
    "item=int(input(\"no.of items=\"))\n",
    "if item<=3:\n",
    "    print(\"10% discount\")\n",
    "elif item<=6:\n",
    "    print(\"20% discount\")\n",
    "elif item<=9:\n",
    "    print(\"30% discount\")\n",
    "else:\n",
    "    print(\"invalid\")"
   ]
  },
  {
   "cell_type": "code",
   "execution_count": 10,
   "id": "98ffd046",
   "metadata": {},
   "outputs": [
    {
     "name": "stdout",
     "output_type": "stream",
     "text": [
      "enter age19\n",
      "not allowed\n"
     ]
    }
   ],
   "source": [
    "age=not(input(\"enter age\"))\n",
    "if age>=18:\n",
    "    print(\"allowed\")\n",
    "else:\n",
    "    print(\"not allowed\")"
   ]
  },
  {
   "cell_type": "code",
   "execution_count": null,
   "id": "a6f8eefc",
   "metadata": {},
   "outputs": [],
   "source": []
  }
 ],
 "metadata": {
  "kernelspec": {
   "display_name": "Python 3 (ipykernel)",
   "language": "python",
   "name": "python3"
  },
  "language_info": {
   "codemirror_mode": {
    "name": "ipython",
    "version": 3
   },
   "file_extension": ".py",
   "mimetype": "text/x-python",
   "name": "python",
   "nbconvert_exporter": "python",
   "pygments_lexer": "ipython3",
   "version": "3.11.4"
  }
 },
 "nbformat": 4,
 "nbformat_minor": 5
}
