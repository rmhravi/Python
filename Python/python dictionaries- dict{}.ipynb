{
 "cells": [
  {
   "cell_type": "code",
   "execution_count": 1,
   "id": "fcb09358",
   "metadata": {},
   "outputs": [],
   "source": [
    "dict1={'name': \"Jesna\",\n",
    "      'age':24}"
   ]
  },
  {
   "cell_type": "code",
   "execution_count": 2,
   "id": "1702bffe",
   "metadata": {},
   "outputs": [
    {
     "data": {
      "text/plain": [
       "{'name': 'Jesna', 'age': 24}"
      ]
     },
     "execution_count": 2,
     "metadata": {},
     "output_type": "execute_result"
    }
   ],
   "source": [
    "dict1"
   ]
  },
  {
   "cell_type": "code",
   "execution_count": 3,
   "id": "635d8388",
   "metadata": {},
   "outputs": [
    {
     "data": {
      "text/plain": [
       "dict"
      ]
     },
     "execution_count": 3,
     "metadata": {},
     "output_type": "execute_result"
    }
   ],
   "source": [
    "type(dict1)"
   ]
  },
  {
   "cell_type": "code",
   "execution_count": 4,
   "id": "2428b701",
   "metadata": {},
   "outputs": [
    {
     "data": {
      "text/plain": [
       "2"
      ]
     },
     "execution_count": 4,
     "metadata": {},
     "output_type": "execute_result"
    }
   ],
   "source": [
    "len(dict1)"
   ]
  },
  {
   "cell_type": "code",
   "execution_count": 5,
   "id": "92706ef2",
   "metadata": {},
   "outputs": [],
   "source": [
    "dict2=dict(name='seenu',age=24)"
   ]
  },
  {
   "cell_type": "code",
   "execution_count": 6,
   "id": "c1e2542a",
   "metadata": {},
   "outputs": [
    {
     "data": {
      "text/plain": [
       "{'name': 'seenu', 'age': 24}"
      ]
     },
     "execution_count": 6,
     "metadata": {},
     "output_type": "execute_result"
    }
   ],
   "source": [
    "dict2"
   ]
  },
  {
   "cell_type": "code",
   "execution_count": 7,
   "id": "2d0452f3",
   "metadata": {},
   "outputs": [
    {
     "data": {
      "text/plain": [
       "'seenu'"
      ]
     },
     "execution_count": 7,
     "metadata": {},
     "output_type": "execute_result"
    }
   ],
   "source": [
    "dict2['name']"
   ]
  },
  {
   "cell_type": "code",
   "execution_count": 8,
   "id": "94866712",
   "metadata": {},
   "outputs": [
    {
     "data": {
      "text/plain": [
       "24"
      ]
     },
     "execution_count": 8,
     "metadata": {},
     "output_type": "execute_result"
    }
   ],
   "source": [
    "dict2['age']"
   ]
  },
  {
   "cell_type": "code",
   "execution_count": 10,
   "id": "a68459ba",
   "metadata": {},
   "outputs": [
    {
     "data": {
      "text/plain": [
       "'seenu'"
      ]
     },
     "execution_count": 10,
     "metadata": {},
     "output_type": "execute_result"
    }
   ],
   "source": [
    "dict2.get('name')"
   ]
  },
  {
   "cell_type": "code",
   "execution_count": 11,
   "id": "270b5bce",
   "metadata": {},
   "outputs": [
    {
     "data": {
      "text/plain": [
       "24"
      ]
     },
     "execution_count": 11,
     "metadata": {},
     "output_type": "execute_result"
    }
   ],
   "source": [
    "dict2.get('age')"
   ]
  },
  {
   "cell_type": "code",
   "execution_count": 12,
   "id": "f8054f64",
   "metadata": {},
   "outputs": [
    {
     "data": {
      "text/plain": [
       "dict_keys(['name', 'age'])"
      ]
     },
     "execution_count": 12,
     "metadata": {},
     "output_type": "execute_result"
    }
   ],
   "source": [
    "dict2.keys()"
   ]
  },
  {
   "cell_type": "code",
   "execution_count": 13,
   "id": "50f4fff4",
   "metadata": {},
   "outputs": [
    {
     "data": {
      "text/plain": [
       "dict_values(['seenu', 24])"
      ]
     },
     "execution_count": 13,
     "metadata": {},
     "output_type": "execute_result"
    }
   ],
   "source": [
    "dict2.values()"
   ]
  },
  {
   "cell_type": "code",
   "execution_count": 14,
   "id": "76e1becb",
   "metadata": {},
   "outputs": [
    {
     "data": {
      "text/plain": [
       "dict_items([('name', 'seenu'), ('age', 24)])"
      ]
     },
     "execution_count": 14,
     "metadata": {},
     "output_type": "execute_result"
    }
   ],
   "source": [
    "dict2.items()"
   ]
  },
  {
   "cell_type": "code",
   "execution_count": 15,
   "id": "0c80e451",
   "metadata": {},
   "outputs": [
    {
     "data": {
      "text/plain": [
       "{'name': 'shany', 'age': 24}"
      ]
     },
     "execution_count": 15,
     "metadata": {},
     "output_type": "execute_result"
    }
   ],
   "source": [
    "#change\n",
    "dict2['name']='shany'\n",
    "dict2"
   ]
  },
  {
   "cell_type": "code",
   "execution_count": 16,
   "id": "c96817df",
   "metadata": {},
   "outputs": [],
   "source": [
    "dict2.update({'age':34})"
   ]
  },
  {
   "cell_type": "code",
   "execution_count": 17,
   "id": "52c23a1b",
   "metadata": {},
   "outputs": [
    {
     "data": {
      "text/plain": [
       "{'name': 'shany', 'age': 34}"
      ]
     },
     "execution_count": 17,
     "metadata": {},
     "output_type": "execute_result"
    }
   ],
   "source": [
    "dict2"
   ]
  },
  {
   "cell_type": "code",
   "execution_count": 20,
   "id": "25ee5613",
   "metadata": {},
   "outputs": [],
   "source": [
    "#add\n",
    "dict2['email']='shanymol@email.com'"
   ]
  },
  {
   "cell_type": "code",
   "execution_count": 21,
   "id": "e1f40113",
   "metadata": {},
   "outputs": [
    {
     "data": {
      "text/plain": [
       "{'name': 'shany', 'age': 34, 'email': 'shanymol@email.com'}"
      ]
     },
     "execution_count": 21,
     "metadata": {},
     "output_type": "execute_result"
    }
   ],
   "source": [
    "dict2"
   ]
  },
  {
   "cell_type": "code",
   "execution_count": 22,
   "id": "69238baa",
   "metadata": {},
   "outputs": [
    {
     "data": {
      "text/plain": [
       "'shanymol@email.com'"
      ]
     },
     "execution_count": 22,
     "metadata": {},
     "output_type": "execute_result"
    }
   ],
   "source": [
    "#delete\n",
    "dict2.pop('email')"
   ]
  },
  {
   "cell_type": "code",
   "execution_count": 23,
   "id": "108d005b",
   "metadata": {},
   "outputs": [
    {
     "data": {
      "text/plain": [
       "{'name': 'shany', 'age': 34}"
      ]
     },
     "execution_count": 23,
     "metadata": {},
     "output_type": "execute_result"
    }
   ],
   "source": [
    "dict2"
   ]
  },
  {
   "cell_type": "code",
   "execution_count": 24,
   "id": "784d4538",
   "metadata": {},
   "outputs": [
    {
     "data": {
      "text/plain": [
       "('age', 34)"
      ]
     },
     "execution_count": 24,
     "metadata": {},
     "output_type": "execute_result"
    }
   ],
   "source": [
    "dict2.popitem()"
   ]
  },
  {
   "cell_type": "code",
   "execution_count": 25,
   "id": "2ef32c21",
   "metadata": {},
   "outputs": [
    {
     "data": {
      "text/plain": [
       "{'name': 'shany'}"
      ]
     },
     "execution_count": 25,
     "metadata": {},
     "output_type": "execute_result"
    }
   ],
   "source": [
    "dict2"
   ]
  },
  {
   "cell_type": "code",
   "execution_count": 28,
   "id": "be602820",
   "metadata": {},
   "outputs": [],
   "source": [
    "del dict1['age']"
   ]
  },
  {
   "cell_type": "code",
   "execution_count": 29,
   "id": "fcc4b8de",
   "metadata": {},
   "outputs": [
    {
     "data": {
      "text/plain": [
       "{'name': 'Jesna'}"
      ]
     },
     "execution_count": 29,
     "metadata": {},
     "output_type": "execute_result"
    }
   ],
   "source": [
    "dict1"
   ]
  },
  {
   "cell_type": "code",
   "execution_count": 30,
   "id": "3721ce22",
   "metadata": {},
   "outputs": [],
   "source": [
    "dict1['name1']=dict1.pop('name')"
   ]
  },
  {
   "cell_type": "code",
   "execution_count": 31,
   "id": "5b8940d1",
   "metadata": {},
   "outputs": [
    {
     "data": {
      "text/plain": [
       "{'name1': 'Jesna'}"
      ]
     },
     "execution_count": 31,
     "metadata": {},
     "output_type": "execute_result"
    }
   ],
   "source": [
    "dict1"
   ]
  },
  {
   "cell_type": "code",
   "execution_count": 32,
   "id": "0adb1870",
   "metadata": {},
   "outputs": [],
   "source": [
    "y=dict1.copy()"
   ]
  },
  {
   "cell_type": "code",
   "execution_count": 33,
   "id": "7adebf86",
   "metadata": {},
   "outputs": [],
   "source": [
    "y['age']=45"
   ]
  },
  {
   "cell_type": "code",
   "execution_count": 34,
   "id": "cf20f8f4",
   "metadata": {},
   "outputs": [
    {
     "name": "stdout",
     "output_type": "stream",
     "text": [
      "name1\n",
      "age\n"
     ]
    }
   ],
   "source": [
    "for i in y:\n",
    "    print(i)"
   ]
  },
  {
   "cell_type": "code",
   "execution_count": 36,
   "id": "03fa677b",
   "metadata": {},
   "outputs": [
    {
     "name": "stdout",
     "output_type": "stream",
     "text": [
      "name1\n",
      "age\n"
     ]
    }
   ],
   "source": [
    "for i in y.keys():\n",
    "    print(i)"
   ]
  },
  {
   "cell_type": "code",
   "execution_count": 37,
   "id": "a1f0aa00",
   "metadata": {},
   "outputs": [
    {
     "name": "stdout",
     "output_type": "stream",
     "text": [
      "Jesna\n",
      "45\n"
     ]
    }
   ],
   "source": [
    "for i in y.values():\n",
    "    print(i)"
   ]
  },
  {
   "cell_type": "code",
   "execution_count": 39,
   "id": "66920109",
   "metadata": {},
   "outputs": [
    {
     "name": "stdout",
     "output_type": "stream",
     "text": [
      "name1 Jesna\n",
      "age 45\n"
     ]
    }
   ],
   "source": [
    "for i,x in y.items():\n",
    "    print(i,x)"
   ]
  },
  {
   "cell_type": "code",
   "execution_count": 40,
   "id": "5c4dcc06",
   "metadata": {},
   "outputs": [],
   "source": [
    "#nested\n",
    "biodata={'person1':{'name':'jesna','age':24},\n",
    "        'person2':{'name':'shany','age':23}}"
   ]
  },
  {
   "cell_type": "code",
   "execution_count": 41,
   "id": "d4521148",
   "metadata": {},
   "outputs": [
    {
     "data": {
      "text/plain": [
       "{'person1': {'name': 'jesna', 'age': 24},\n",
       " 'person2': {'name': 'shany', 'age': 23}}"
      ]
     },
     "execution_count": 41,
     "metadata": {},
     "output_type": "execute_result"
    }
   ],
   "source": [
    "biodata"
   ]
  },
  {
   "cell_type": "code",
   "execution_count": 42,
   "id": "ac20c2dd",
   "metadata": {},
   "outputs": [
    {
     "data": {
      "text/plain": [
       "'shany'"
      ]
     },
     "execution_count": 42,
     "metadata": {},
     "output_type": "execute_result"
    }
   ],
   "source": [
    "biodata['person2']['name']"
   ]
  },
  {
   "cell_type": "code",
   "execution_count": null,
   "id": "3c586def",
   "metadata": {},
   "outputs": [],
   "source": []
  }
 ],
 "metadata": {
  "kernelspec": {
   "display_name": "Python 3 (ipykernel)",
   "language": "python",
   "name": "python3"
  },
  "language_info": {
   "codemirror_mode": {
    "name": "ipython",
    "version": 3
   },
   "file_extension": ".py",
   "mimetype": "text/x-python",
   "name": "python",
   "nbconvert_exporter": "python",
   "pygments_lexer": "ipython3",
   "version": "3.11.4"
  }
 },
 "nbformat": 4,
 "nbformat_minor": 5
}
