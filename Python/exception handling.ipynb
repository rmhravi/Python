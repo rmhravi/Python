{
 "cells": [
  {
   "cell_type": "code",
   "execution_count": 9,
   "id": "c55362de",
   "metadata": {},
   "outputs": [
    {
     "name": "stdout",
     "output_type": "stream",
     "text": [
      "25\n",
      "5.0\n",
      "5.0\n"
     ]
    }
   ],
   "source": [
    "#simple divison program\n",
    "a=int(input())\n",
    "b=float(input())\n",
    "c=a/b\n",
    "print(c)"
   ]
  },
  {
   "cell_type": "code",
   "execution_count": 11,
   "id": "c4d35ced",
   "metadata": {},
   "outputs": [
    {
     "name": "stdout",
     "output_type": "stream",
     "text": [
      "2\n",
      "1.0\n",
      "enter a valid input\n"
     ]
    }
   ],
   "source": [
    "try:\n",
    "    a=int(input())\n",
    "    b=int(input())\n",
    "    c=a/b\n",
    "    print(c)\n",
    "except:\n",
    "    print('enter a valid input')"
   ]
  },
  {
   "cell_type": "code",
   "execution_count": 13,
   "id": "f0abbd9e",
   "metadata": {},
   "outputs": [
    {
     "name": "stdout",
     "output_type": "stream",
     "text": [
      "2\n",
      "2.1\n",
      "enter a valid input\n",
      "end of the program\n"
     ]
    }
   ],
   "source": [
    "try:\n",
    "    a=int(input())\n",
    "    b=int(input())\n",
    "    c=a/b\n",
    "except:\n",
    "    print('enter a valid input')\n",
    "else:\n",
    "    print(c)\n",
    "finally:\n",
    "    print('end of the program')"
   ]
  },
  {
   "cell_type": "code",
   "execution_count": 1,
   "id": "0bc02cf7",
   "metadata": {},
   "outputs": [
    {
     "name": "stdout",
     "output_type": "stream",
     "text": [
      "5\n",
      "2\n",
      "2.5\n"
     ]
    }
   ],
   "source": [
    "while True:\n",
    "    try:\n",
    "        a=int(input())\n",
    "        b=int(input())\n",
    "        c=a/b\n",
    "    except:\n",
    "        print('enter a valid input')\n",
    "    else:\n",
    "        print(c)\n",
    "        break"
   ]
  },
  {
   "cell_type": "code",
   "execution_count": 4,
   "id": "3a8c6f30",
   "metadata": {},
   "outputs": [
    {
     "name": "stdout",
     "output_type": "stream",
     "text": [
      "5\n",
      "0\n",
      "division by zero:enter a valid input\n"
     ]
    }
   ],
   "source": [
    "try:\n",
    "    a=int(input())\n",
    "    b=int(input())\n",
    "    c=a/b\n",
    "except ZeroDivisionError:\n",
    "    print(\"division by zero:enter a valid input\")\n",
    "except ValueError:\n",
    "    print(\"division by literal:enter a valid input\")\n",
    "else:\n",
    "    print(c)"
   ]
  },
  {
   "cell_type": "code",
   "execution_count": null,
   "id": "5a2d0eb2",
   "metadata": {},
   "outputs": [],
   "source": []
  }
 ],
 "metadata": {
  "kernelspec": {
   "display_name": "Python 3 (ipykernel)",
   "language": "python",
   "name": "python3"
  },
  "language_info": {
   "codemirror_mode": {
    "name": "ipython",
    "version": 3
   },
   "file_extension": ".py",
   "mimetype": "text/x-python",
   "name": "python",
   "nbconvert_exporter": "python",
   "pygments_lexer": "ipython3",
   "version": "3.11.4"
  }
 },
 "nbformat": 4,
 "nbformat_minor": 5
}
