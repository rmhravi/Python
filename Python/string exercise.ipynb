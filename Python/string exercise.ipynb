{
 "cells": [
  {
   "cell_type": "code",
   "execution_count": 1,
   "id": "e2004b76",
   "metadata": {},
   "outputs": [
    {
     "name": "stdout",
     "output_type": "stream",
     "text": [
      "hello world\n"
     ]
    }
   ],
   "source": [
    "message=\"hello world\"\n",
    "print(message)"
   ]
  },
  {
   "cell_type": "code",
   "execution_count": 2,
   "id": "033466db",
   "metadata": {},
   "outputs": [
    {
     "name": "stdout",
     "output_type": "stream",
     "text": [
      "w\n"
     ]
    }
   ],
   "source": [
    "print(message[6])"
   ]
  },
  {
   "cell_type": "code",
   "execution_count": 3,
   "id": "d38a0ecd",
   "metadata": {},
   "outputs": [
    {
     "name": "stdout",
     "output_type": "stream",
     "text": [
      "hello\n"
     ]
    }
   ],
   "source": [
    "print(message[:5])"
   ]
  },
  {
   "cell_type": "code",
   "execution_count": 4,
   "id": "61fb4791",
   "metadata": {},
   "outputs": [
    {
     "name": "stdout",
     "output_type": "stream",
     "text": [
      "world\n"
     ]
    }
   ],
   "source": [
    "print(message[-5:])"
   ]
  },
  {
   "cell_type": "code",
   "execution_count": 5,
   "id": "aeb95a3e",
   "metadata": {},
   "outputs": [
    {
     "name": "stdout",
     "output_type": "stream",
     "text": [
      "enter a number12\n",
      "enter a number13\n",
      "25\n",
      "-1\n",
      "156\n",
      "0.9230769230769231\n"
     ]
    }
   ],
   "source": [
    "a=int(input(\"enter a number\"))\n",
    "b=int(input(\"enter a number\"))\n",
    "print(a+b)\n",
    "print(a-b)\n",
    "print(a*b)\n",
    "print(a/b)\n"
   ]
  },
  {
   "cell_type": "code",
   "execution_count": 6,
   "id": "1b6df978",
   "metadata": {},
   "outputs": [
    {
     "name": "stdout",
     "output_type": "stream",
     "text": [
      "enter a number20\n",
      "enter a number15\n",
      "sum is:35,diff is:5,mulp is:300,div is:1.3333333333333333\n"
     ]
    }
   ],
   "source": [
    "a=int(input(\"enter a number\"))\n",
    "b=int(input(\"enter a number\"))\n",
    "x=a+b\n",
    "y=a-b\n",
    "z=a*b\n",
    "c=a/b\n",
    "print(f\"sum is:{x},diff is:{y},mulp is:{z},div is:{c}\")"
   ]
  },
  {
   "cell_type": "code",
   "execution_count": 7,
   "id": "016cc8a8",
   "metadata": {},
   "outputs": [],
   "source": [
    "name=\"james\"\n",
    "length=len(name)"
   ]
  },
  {
   "cell_type": "code",
   "execution_count": 8,
   "id": "c17ea654",
   "metadata": {},
   "outputs": [
    {
     "data": {
      "text/plain": [
       "5"
      ]
     },
     "execution_count": 8,
     "metadata": {},
     "output_type": "execute_result"
    }
   ],
   "source": [
    "length"
   ]
  },
  {
   "cell_type": "code",
   "execution_count": 9,
   "id": "c472e25a",
   "metadata": {},
   "outputs": [],
   "source": [
    "mid=length//2"
   ]
  },
  {
   "cell_type": "code",
   "execution_count": 10,
   "id": "a0413a82",
   "metadata": {},
   "outputs": [
    {
     "data": {
      "text/plain": [
       "2"
      ]
     },
     "execution_count": 10,
     "metadata": {},
     "output_type": "execute_result"
    }
   ],
   "source": [
    "mid"
   ]
  },
  {
   "cell_type": "code",
   "execution_count": 12,
   "id": "fc5c0332",
   "metadata": {},
   "outputs": [
    {
     "name": "stdout",
     "output_type": "stream",
     "text": [
      "jms\n"
     ]
    }
   ],
   "source": [
    "print(name[0]+name[mid]+name[-1])"
   ]
  },
  {
   "cell_type": "code",
   "execution_count": 15,
   "id": "a0e3fea1",
   "metadata": {},
   "outputs": [],
   "source": [
    "carname=\"mercedesbenz\""
   ]
  },
  {
   "cell_type": "code",
   "execution_count": 14,
   "id": "c633b9eb",
   "metadata": {},
   "outputs": [],
   "source": [
    "length=len(carname)"
   ]
  },
  {
   "cell_type": "code",
   "execution_count": 16,
   "id": "c45f31cf",
   "metadata": {},
   "outputs": [
    {
     "data": {
      "text/plain": [
       "12"
      ]
     },
     "execution_count": 16,
     "metadata": {},
     "output_type": "execute_result"
    }
   ],
   "source": [
    "length"
   ]
  },
  {
   "cell_type": "code",
   "execution_count": 17,
   "id": "79802066",
   "metadata": {},
   "outputs": [
    {
     "data": {
      "text/plain": [
       "6"
      ]
     },
     "execution_count": 17,
     "metadata": {},
     "output_type": "execute_result"
    }
   ],
   "source": [
    "mid=length//2\n",
    "mid"
   ]
  },
  {
   "cell_type": "code",
   "execution_count": 18,
   "id": "a16e6a09",
   "metadata": {},
   "outputs": [
    {
     "name": "stdout",
     "output_type": "stream",
     "text": [
      "mez\n"
     ]
    }
   ],
   "source": [
    "print(carname[0]+carname[mid]+carname[-1])"
   ]
  },
  {
   "cell_type": "code",
   "execution_count": 22,
   "id": "87dcb901",
   "metadata": {},
   "outputs": [
    {
     "name": "stdout",
     "output_type": "stream",
     "text": [
      "AuKellylt\n"
     ]
    }
   ],
   "source": [
    "s1='Ault'\n",
    "s2='Kelly'\n",
    "length=len(s1)\n",
    "mid=length//2\n",
    "print(s1[:mid]+s2+s1[mid:])"
   ]
  },
  {
   "cell_type": "code",
   "execution_count": 3,
   "id": "204a8e36",
   "metadata": {},
   "outputs": [
    {
     "name": "stdout",
     "output_type": "stream",
     "text": [
      "AJrpan\n"
     ]
    }
   ],
   "source": [
    "s1=\"America\"\n",
    "s2=\"Japan\"\n",
    "length=len(s1)\n",
    "length=len(s2)\n",
    "mid=length//2\n",
    "print(s1[0]+s2[0]+s1[3]+s2[mid]+s1[-1]+s2[-1])"
   ]
  },
  {
   "cell_type": "code",
   "execution_count": null,
   "id": "90250267",
   "metadata": {},
   "outputs": [],
   "source": []
  }
 ],
 "metadata": {
  "kernelspec": {
   "display_name": "Python 3 (ipykernel)",
   "language": "python",
   "name": "python3"
  },
  "language_info": {
   "codemirror_mode": {
    "name": "ipython",
    "version": 3
   },
   "file_extension": ".py",
   "mimetype": "text/x-python",
   "name": "python",
   "nbconvert_exporter": "python",
   "pygments_lexer": "ipython3",
   "version": "3.11.4"
  }
 },
 "nbformat": 4,
 "nbformat_minor": 5
}
