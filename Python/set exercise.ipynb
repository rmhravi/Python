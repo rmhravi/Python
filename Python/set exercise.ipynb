{
 "cells": [
  {
   "cell_type": "code",
   "execution_count": 14,
   "id": "a941e173",
   "metadata": {},
   "outputs": [],
   "source": [
    "#1\n",
    "s1={1,2,3,4,True}"
   ]
  },
  {
   "cell_type": "code",
   "execution_count": 15,
   "id": "78a3e137",
   "metadata": {},
   "outputs": [
    {
     "data": {
      "text/plain": [
       "{1, 2, 3, 4}"
      ]
     },
     "execution_count": 15,
     "metadata": {},
     "output_type": "execute_result"
    }
   ],
   "source": [
    "s1"
   ]
  },
  {
   "cell_type": "code",
   "execution_count": 32,
   "id": "895e18f9",
   "metadata": {},
   "outputs": [
    {
     "name": "stdout",
     "output_type": "stream",
     "text": [
      "{1, 2, 3, 4}\n"
     ]
    }
   ],
   "source": [
    "#2\n",
    "s2 = {1, 2, 3}\n",
    "s2.add(4)\n",
    "print(s2)"
   ]
  },
  {
   "cell_type": "code",
   "execution_count": 27,
   "id": "91a78c9d",
   "metadata": {},
   "outputs": [],
   "source": [
    "#3\n",
    "s2.clear()"
   ]
  },
  {
   "cell_type": "code",
   "execution_count": 28,
   "id": "2144f7cd",
   "metadata": {},
   "outputs": [
    {
     "data": {
      "text/plain": [
       "set()"
      ]
     },
     "execution_count": 28,
     "metadata": {},
     "output_type": "execute_result"
    }
   ],
   "source": [
    "s2"
   ]
  },
  {
   "cell_type": "code",
   "execution_count": 30,
   "id": "71972869",
   "metadata": {},
   "outputs": [],
   "source": [
    "#4\n",
    "s3 = {1,2,3,4,5,6}\n",
    "s3.discard(5)"
   ]
  },
  {
   "cell_type": "code",
   "execution_count": 31,
   "id": "406e747f",
   "metadata": {},
   "outputs": [
    {
     "data": {
      "text/plain": [
       "{1, 2, 3, 4, 6}"
      ]
     },
     "execution_count": 31,
     "metadata": {},
     "output_type": "execute_result"
    }
   ],
   "source": [
    "s3"
   ]
  },
  {
   "cell_type": "code",
   "execution_count": 39,
   "id": "12cf498a",
   "metadata": {},
   "outputs": [],
   "source": [
    "#5\n",
    "s4 = {'a','b','c'}\n",
    "s5 = {'x','y','z'}"
   ]
  },
  {
   "cell_type": "code",
   "execution_count": 40,
   "id": "666ea97d",
   "metadata": {},
   "outputs": [
    {
     "data": {
      "text/plain": [
       "set()"
      ]
     },
     "execution_count": 40,
     "metadata": {},
     "output_type": "execute_result"
    }
   ],
   "source": [
    "s4.intersection(s5)"
   ]
  },
  {
   "cell_type": "code",
   "execution_count": 42,
   "id": "205594aa",
   "metadata": {},
   "outputs": [
    {
     "data": {
      "text/plain": [
       "set()"
      ]
     },
     "execution_count": 42,
     "metadata": {},
     "output_type": "execute_result"
    }
   ],
   "source": [
    "s4.intersection(s5)"
   ]
  },
  {
   "cell_type": "code",
   "execution_count": null,
   "id": "51fdbc30",
   "metadata": {},
   "outputs": [],
   "source": []
  }
 ],
 "metadata": {
  "kernelspec": {
   "display_name": "Python 3 (ipykernel)",
   "language": "python",
   "name": "python3"
  },
  "language_info": {
   "codemirror_mode": {
    "name": "ipython",
    "version": 3
   },
   "file_extension": ".py",
   "mimetype": "text/x-python",
   "name": "python",
   "nbconvert_exporter": "python",
   "pygments_lexer": "ipython3",
   "version": "3.11.4"
  }
 },
 "nbformat": 4,
 "nbformat_minor": 5
}
