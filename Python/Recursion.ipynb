{
 "cells": [
  {
   "cell_type": "code",
   "execution_count": 10,
   "id": "328f3d80",
   "metadata": {},
   "outputs": [
    {
     "name": "stdout",
     "output_type": "stream",
     "text": [
      "enter a numer: 0\n",
      "the factorial of 0 is 1\n"
     ]
    }
   ],
   "source": [
    "def factorial(n):\n",
    "    if n==1:\n",
    "        return 1\n",
    "    elif n==0:\n",
    "        return 1\n",
    "    else:\n",
    "        return n*factorial(n-1)\n",
    "number=int(input('enter a numer: '))\n",
    "print(\"the factorial of\",number, 'is',factorial(number))"
   ]
  },
  {
   "cell_type": "code",
   "execution_count": 11,
   "id": "6ad85762",
   "metadata": {},
   "outputs": [
    {
     "name": "stdout",
     "output_type": "stream",
     "text": [
      "enter a number: 0\n",
      "enter a number: 1\n",
      "0 raised to 1 is 0\n"
     ]
    }
   ],
   "source": [
    "def power(x,n):\n",
    "    if(n==1):\n",
    "        return x\n",
    "    else:\n",
    "        return x*power(x,n-1)\n",
    "base = int(input('enter a number: '))\n",
    "exp = int(input('enter a number: '))\n",
    "print(base,'raised to',exp,'is',power(base,exp))"
   ]
  },
  {
   "cell_type": "code",
   "execution_count": 17,
   "id": "5c246504",
   "metadata": {},
   "outputs": [
    {
     "name": "stdout",
     "output_type": "stream",
     "text": [
      "enter a number: 2024\n",
      "sum of digits of number 2024 is 8\n"
     ]
    }
   ],
   "source": [
    "def sumdigits(n):\n",
    "    if (n<10):\n",
    "        return n\n",
    "    else:\n",
    "        return n % 10+ sumdigits(n // 10)\n",
    "number = int(input('enter a number: '))\n",
    "print(\"sum of digits of number\",number,'is',sumdigits(number))"
   ]
  },
  {
   "cell_type": "code",
   "execution_count": 24,
   "id": "da44d14b",
   "metadata": {},
   "outputs": [
    {
     "name": "stdout",
     "output_type": "stream",
     "text": [
      "enter a number: 100\n",
      "enter a number: 50\n",
      "100 and 50 gcd is 50\n"
     ]
    }
   ],
   "source": [
    "def gcd(x,y):\n",
    "    if (x % y ==0):\n",
    "        return y\n",
    "    else:\n",
    "        return gcd(y,x % y)\n",
    "num1=int(input('enter a number: '))\n",
    "num2=int(input('enter a number: '))\n",
    "print(num1,'and',num2,'gcd is',gcd(num1,num2))"
   ]
  },
  {
   "cell_type": "code",
   "execution_count": 26,
   "id": "796154e7",
   "metadata": {},
   "outputs": [
    {
     "name": "stdout",
     "output_type": "stream",
     "text": [
      "the first 10 fibonacci numbers are\n",
      "0  1  1  2  3  5  8  13  21  34  55  89  144  233  377  610  987  1597  2584  4181  "
     ]
    }
   ],
   "source": [
    "def fib(n):\n",
    "    if (n<=0):\n",
    "        return 0\n",
    "    elif (n==1):\n",
    "        return 1\n",
    "    else:\n",
    "        return fib(n-1)+fib(n-2)\n",
    "    \n",
    "print('the first 10 fibonacci numbers are')\n",
    "\n",
    "for i in range(20):\n",
    "    print(fib(i),end='  ')"
   ]
  },
  {
   "cell_type": "code",
   "execution_count": 2,
   "id": "97850597",
   "metadata": {},
   "outputs": [
    {
     "name": "stdout",
     "output_type": "stream",
     "text": [
      "enter a number: 10\n",
      "decimal equivalent of 10 is 1 0 1 0 "
     ]
    }
   ],
   "source": [
    "def decToBinary(num):\n",
    "    if (num==0):\n",
    "        return\n",
    "    decToBinary(num // 2)\n",
    "    print(num % 2,end =\" \")\n",
    "\n",
    "number = int(input('enter a number: '))\n",
    "print(\"decimal equivalent of\",number,'is ',end=\"\")\n",
    "decToBinary(number)"
   ]
  },
  {
   "cell_type": "code",
   "execution_count": 3,
   "id": "fe27609a",
   "metadata": {},
   "outputs": [
    {
     "name": "stdout",
     "output_type": "stream",
     "text": [
      "enter a number10\n",
      "The sum of first 10 number is  55\n"
     ]
    }
   ],
   "source": [
    "def sum(n):\n",
    "    if (n==0):\n",
    "        return 0\n",
    "    else:\n",
    "        return n + sum(n-1)\n",
    "    \n",
    "number = int(input('enter a number'))\n",
    "print(\"The sum of first\", number,\"number is \",sum(number))"
   ]
  },
  {
   "cell_type": "code",
   "execution_count": null,
   "id": "91535707",
   "metadata": {},
   "outputs": [],
   "source": []
  }
 ],
 "metadata": {
  "kernelspec": {
   "display_name": "Python 3 (ipykernel)",
   "language": "python",
   "name": "python3"
  },
  "language_info": {
   "codemirror_mode": {
    "name": "ipython",
    "version": 3
   },
   "file_extension": ".py",
   "mimetype": "text/x-python",
   "name": "python",
   "nbconvert_exporter": "python",
   "pygments_lexer": "ipython3",
   "version": "3.11.4"
  }
 },
 "nbformat": 4,
 "nbformat_minor": 5
}
