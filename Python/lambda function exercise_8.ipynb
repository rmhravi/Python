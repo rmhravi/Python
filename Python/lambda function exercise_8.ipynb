{
 "cells": [
  {
   "cell_type": "code",
   "execution_count": 1,
   "id": "24e12ed3",
   "metadata": {},
   "outputs": [
    {
     "name": "stdout",
     "output_type": "stream",
     "text": [
      "[1, 4, 9, 16]\n"
     ]
    }
   ],
   "source": [
    "#1\n",
    "print(list(map(lambda x:x**2,[1,2,3,4])))"
   ]
  },
  {
   "cell_type": "code",
   "execution_count": 4,
   "id": "6d5ac873",
   "metadata": {},
   "outputs": [
    {
     "name": "stdout",
     "output_type": "stream",
     "text": [
      "[1, 8, 27, 64]\n"
     ]
    }
   ],
   "source": [
    "print(list(map(lambda x:x**3,[1,2,3,4])))"
   ]
  },
  {
   "cell_type": "code",
   "execution_count": 12,
   "id": "441ff46e",
   "metadata": {},
   "outputs": [
    {
     "name": "stdout",
     "output_type": "stream",
     "text": [
      "[8, 1, 2, 9]\n"
     ]
    }
   ],
   "source": [
    "#2\n",
    "arr1 = [1, 2, 3, 5, 7, 8, 9, 10]\n",
    "arr2 = [1, 2, 4, 8, 9]\n",
    "intersection = list(set(arr1) & set(arr2))\n",
    "print(intersection)"
   ]
  },
  {
   "cell_type": "code",
   "execution_count": 13,
   "id": "f18f9e39",
   "metadata": {},
   "outputs": [
    {
     "name": "stdout",
     "output_type": "stream",
     "text": [
      "Even count: 3\n",
      "Odd count: 5\n"
     ]
    }
   ],
   "source": [
    "#3\n",
    "arr = [1, 2, 3, 5, 7, 8, 9, 10]\n",
    "even_count = len(list(filter(lambda x: x % 2 == 0, arr)))\n",
    "odd_count = len(list(filter(lambda x: x % 2 != 0, arr)))\n",
    "print(f\"Even count: {even_count}\")\n",
    "print(f\"Odd count: {odd_count}\")"
   ]
  },
  {
   "cell_type": "code",
   "execution_count": null,
   "id": "60868307",
   "metadata": {},
   "outputs": [],
   "source": []
  }
 ],
 "metadata": {
  "kernelspec": {
   "display_name": "Python 3 (ipykernel)",
   "language": "python",
   "name": "python3"
  },
  "language_info": {
   "codemirror_mode": {
    "name": "ipython",
    "version": 3
   },
   "file_extension": ".py",
   "mimetype": "text/x-python",
   "name": "python",
   "nbconvert_exporter": "python",
   "pygments_lexer": "ipython3",
   "version": "3.11.4"
  }
 },
 "nbformat": 4,
 "nbformat_minor": 5
}
