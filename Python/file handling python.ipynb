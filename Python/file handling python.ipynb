{
 "cells": [
  {
   "cell_type": "code",
   "execution_count": 1,
   "id": "f28a03a9",
   "metadata": {},
   "outputs": [],
   "source": [
    "f=open('file_2.txt','w')\n",
    "f.write('iam learning python')\n",
    "f.close()"
   ]
  },
  {
   "cell_type": "code",
   "execution_count": 3,
   "id": "d2049932",
   "metadata": {},
   "outputs": [],
   "source": [
    "f=open('file_2.txt','r+')\n",
    "f.write('iam learning python')\n",
    "f.close()"
   ]
  },
  {
   "cell_type": "code",
   "execution_count": 8,
   "id": "ee5e2cf8",
   "metadata": {},
   "outputs": [],
   "source": [
    "f=open('C:\\\\Users\\\\USER\\\\Desktop\\\\Ramesh P R\\\\Python\\\\file.txt','w')\n",
    "f.write('iam learning cpp \\n')\n",
    "f.write('iam learning c \\n')\n",
    "f.close()"
   ]
  },
  {
   "cell_type": "code",
   "execution_count": 12,
   "id": "89e147ef",
   "metadata": {},
   "outputs": [],
   "source": [
    "f=open('C:\\\\Users\\\\USER\\\\Desktop\\\\Ramesh P R\\\\Python\\\\file.txt','w')\n",
    "f.writelines(['iam learning OOPS \\n','iam learning excel '])\n",
    "f.write('iam learning CPP \\n')\n",
    "f.close()"
   ]
  },
  {
   "cell_type": "code",
   "execution_count": 13,
   "id": "06057478",
   "metadata": {},
   "outputs": [
    {
     "name": "stdout",
     "output_type": "stream",
     "text": [
      "iam learning OOPS \n",
      "iam learning excel iam learning CPP \n",
      "\n"
     ]
    }
   ],
   "source": [
    "f=open('C:\\\\Users\\\\USER\\\\Desktop\\\\Ramesh P R\\\\Python\\\\file.txt','r')\n",
    "print(f.read())\n",
    "f.close()"
   ]
  },
  {
   "cell_type": "code",
   "execution_count": 14,
   "id": "386e5257",
   "metadata": {},
   "outputs": [
    {
     "name": "stdout",
     "output_type": "stream",
     "text": [
      "iam learning OOPS \n",
      "\n"
     ]
    }
   ],
   "source": [
    "f=open('C:\\\\Users\\\\USER\\\\Desktop\\\\Ramesh P R\\\\Python\\\\file.txt','r')\n",
    "print(f.readline())"
   ]
  },
  {
   "cell_type": "code",
   "execution_count": 15,
   "id": "c653a3f8",
   "metadata": {},
   "outputs": [
    {
     "name": "stdout",
     "output_type": "stream",
     "text": [
      "iam learni\n"
     ]
    }
   ],
   "source": [
    "print(f.read(10))"
   ]
  },
  {
   "cell_type": "code",
   "execution_count": 16,
   "id": "7539aee2",
   "metadata": {},
   "outputs": [
    {
     "name": "stdout",
     "output_type": "stream",
     "text": [
      "ng excel iam learning CPP \n",
      "\n"
     ]
    }
   ],
   "source": [
    "print(f.readline())"
   ]
  },
  {
   "cell_type": "code",
   "execution_count": 17,
   "id": "dfc832ea",
   "metadata": {},
   "outputs": [
    {
     "name": "stdout",
     "output_type": "stream",
     "text": [
      "\n"
     ]
    }
   ],
   "source": [
    "print(f.read())"
   ]
  },
  {
   "cell_type": "code",
   "execution_count": 18,
   "id": "0e440aa5",
   "metadata": {},
   "outputs": [
    {
     "name": "stdout",
     "output_type": "stream",
     "text": [
      "[]\n"
     ]
    }
   ],
   "source": [
    "print(f.readlines())"
   ]
  },
  {
   "cell_type": "code",
   "execution_count": 19,
   "id": "26a4ef77",
   "metadata": {},
   "outputs": [
    {
     "name": "stdout",
     "output_type": "stream",
     "text": [
      "58\n"
     ]
    }
   ],
   "source": [
    "print(f.tell())"
   ]
  },
  {
   "cell_type": "code",
   "execution_count": 20,
   "id": "63b1a1d7",
   "metadata": {},
   "outputs": [
    {
     "name": "stdout",
     "output_type": "stream",
     "text": [
      "0\n"
     ]
    }
   ],
   "source": [
    "print(f.seek(0))"
   ]
  },
  {
   "cell_type": "code",
   "execution_count": 21,
   "id": "c8fc7832",
   "metadata": {},
   "outputs": [
    {
     "data": {
      "text/plain": [
       "0"
      ]
     },
     "execution_count": 21,
     "metadata": {},
     "output_type": "execute_result"
    }
   ],
   "source": [
    "f.tell()"
   ]
  },
  {
   "cell_type": "code",
   "execution_count": 22,
   "id": "7dd2435d",
   "metadata": {},
   "outputs": [
    {
     "data": {
      "text/plain": [
       "'iam learning OOPS \\niam learning excel iam learning CPP \\n'"
      ]
     },
     "execution_count": 22,
     "metadata": {},
     "output_type": "execute_result"
    }
   ],
   "source": [
    "f.read()"
   ]
  },
  {
   "cell_type": "code",
   "execution_count": 23,
   "id": "d7e8059b",
   "metadata": {},
   "outputs": [
    {
     "name": "stdout",
     "output_type": "stream",
     "text": [
      "\n"
     ]
    }
   ],
   "source": [
    "print(f.read())"
   ]
  },
  {
   "cell_type": "code",
   "execution_count": 25,
   "id": "c20ccc77",
   "metadata": {},
   "outputs": [
    {
     "name": "stdout",
     "output_type": "stream",
     "text": [
      "58\n"
     ]
    }
   ],
   "source": [
    "print(f.tell())\n",
    "f.close()"
   ]
  },
  {
   "cell_type": "code",
   "execution_count": 26,
   "id": "aeb44c44",
   "metadata": {},
   "outputs": [
    {
     "name": "stdout",
     "output_type": "stream",
     "text": [
      "iam learning OOPS \n",
      "\n",
      "iam learning excel iam learning CPP \n",
      "\n"
     ]
    }
   ],
   "source": [
    "f=open('C:\\\\Users\\\\USER\\\\Desktop\\\\Ramesh P R\\\\Python\\\\file.txt','r')\n",
    "for line in f:\n",
    "    print(line)\n",
    "f.close()"
   ]
  },
  {
   "cell_type": "code",
   "execution_count": 27,
   "id": "59477b03",
   "metadata": {},
   "outputs": [],
   "source": [
    "with open('file.txt','wt') as fp:\n",
    "    fp.write('welcome to pythonexamples.org. Here, you will find python')"
   ]
  },
  {
   "cell_type": "code",
   "execution_count": 29,
   "id": "a46043bf",
   "metadata": {},
   "outputs": [
    {
     "name": "stdout",
     "output_type": "stream",
     "text": [
      "['iam', 'learning', 'python', 'iam', 'learning', 'java', 'iam', 'learning', 'OOPS', 'iam', 'learning', 'CPP']\n"
     ]
    }
   ],
   "source": [
    "file=open('D:\\Python\\\\file2.txt','rt')\n",
    "data=file.read()\n",
    "words=data.split()\n",
    "print(words)"
   ]
  },
  {
   "cell_type": "code",
   "execution_count": 32,
   "id": "3ae92b82",
   "metadata": {},
   "outputs": [],
   "source": [
    "import os\n",
    "os.remove('file_2.txt')"
   ]
  },
  {
   "cell_type": "code",
   "execution_count": null,
   "id": "4387e722",
   "metadata": {},
   "outputs": [],
   "source": []
  }
 ],
 "metadata": {
  "kernelspec": {
   "display_name": "Python 3 (ipykernel)",
   "language": "python",
   "name": "python3"
  },
  "language_info": {
   "codemirror_mode": {
    "name": "ipython",
    "version": 3
   },
   "file_extension": ".py",
   "mimetype": "text/x-python",
   "name": "python",
   "nbconvert_exporter": "python",
   "pygments_lexer": "ipython3",
   "version": "3.11.4"
  }
 },
 "nbformat": 4,
 "nbformat_minor": 5
}
