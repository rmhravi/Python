{
 "cells": [
  {
   "cell_type": "code",
   "execution_count": 8,
   "id": "66c4b776",
   "metadata": {},
   "outputs": [
    {
     "name": "stdout",
     "output_type": "stream",
     "text": [
      "FizzBuzz\n"
     ]
    }
   ],
   "source": [
    "#1\n",
    "def fizz_buzz(num):\n",
    "    if num % 3 == 0:\n",
    "        return \"Fizz\"\n",
    "    elif num % 5 == 0:\n",
    "        return \"Buzz\"\n",
    "    elif num // 3 == 0 and num // 5 == 0:\n",
    "        return \"FizzBuzz\"\n",
    "    else:\n",
    "        return num\n",
    "print(fizz_buzz(2))"
   ]
  },
  {
   "cell_type": "code",
   "execution_count": 14,
   "id": "0ee60445",
   "metadata": {},
   "outputs": [
    {
     "name": "stdout",
     "output_type": "stream",
     "text": [
      "Ok\n",
      "Points: 2\n",
      "Points: 6\n",
      "Points: 10\n"
     ]
    }
   ],
   "source": [
    " #2\n",
    "def check_driver_speed(speed):\n",
    "    if speed < 70:\n",
    "        print(\"Ok\")\n",
    "    else:\n",
    "        demerit_points = (speed - 70) // 5\n",
    "        print(f\"Points: {demerit_points}\")\n",
    "        \n",
    "        if demerit_points > 12:\n",
    "            print(\"License suspended\")\n",
    "check_driver_speed(60) \n",
    "check_driver_speed(80) \n",
    "check_driver_speed(100) \n",
    "check_driver_speed(120) "
   ]
  },
  {
   "cell_type": "code",
   "execution_count": 17,
   "id": "e7504bbe",
   "metadata": {},
   "outputs": [
    {
     "name": "stdout",
     "output_type": "stream",
     "text": [
      "1. 0 EVEN\n",
      "2. 1 ODD\n",
      "3. 2 EVEN\n",
      "4. 3 ODD\n"
     ]
    }
   ],
   "source": [
    "#3\n",
    "def show_numbers(limit):\n",
    "    for num in range(limit + 1):\n",
    "        if num % 2 == 0:\n",
    "            print(f\"{num + 1}. {num} EVEN\")\n",
    "        else:\n",
    "            print(f\"{num + 1}. {num} ODD\")\n",
    "show_numbers(3)"
   ]
  },
  {
   "cell_type": "code",
   "execution_count": 19,
   "id": "4ff768c9",
   "metadata": {},
   "outputs": [
    {
     "name": "stdout",
     "output_type": "stream",
     "text": [
      "98\n"
     ]
    }
   ],
   "source": [
    "#4\n",
    "def sum_multiples(limit):\n",
    "    sum = 0\n",
    "    for num in range(limit + 1):\n",
    "        if num % 3 == 0 or num % 5 == 0:\n",
    "            sum += num\n",
    "    return sum\n",
    "print(sum_multiples(20))"
   ]
  },
  {
   "cell_type": "code",
   "execution_count": null,
   "id": "a93e818f",
   "metadata": {},
   "outputs": [
    {
     "name": "stdout",
     "output_type": "stream",
     "text": [
      "Question 1: What is 3 * 7?\n",
      "Your answer: 21\n",
      "Correct!\n",
      "Question 2: What is 6 * 76?\n",
      "Your answer: 456\n",
      "Correct!\n",
      "Question 3: What is 83 - 14?\n",
      "Your answer: 69\n",
      "Correct!\n",
      "Question 4: What is 28 * 34?\n",
      "Your answer: 632\n",
      "Wrong! The correct answer is 28 * 34 = 62\n",
      "Question 5: What is 11 - 28?\n"
     ]
    }
   ],
   "source": [
    "#5\n",
    "import random\n",
    "\n",
    "def create_question():\n",
    "    operators = ['+', '-', '*', '/']\n",
    "    left_operand = random.randint(1, 100)\n",
    "    right_operand = random.randint(1, 100)\n",
    "    operator = random.choice(operators)\n",
    "    return left_operand, operator, right_operand\n",
    "\n",
    "def check_answer(left_operand, operator, right_operand, user_answer):\n",
    "    if operator == '+':\n",
    "        correct_answer = left_operand + right_operand\n",
    "    elif operator == '-':\n",
    "        correct_answer = left_operand - right_operand\n",
    "    elif operator == '*':\n",
    "        correct_answer = left_operand * right_operand\n",
    "    elif operator == '/':\n",
    "        correct_answer = left_operand / right_operand\n",
    "    return user_answer == correct_answer\n",
    "\n",
    "def run_quiz(num_questions):\n",
    "    score = 0\n",
    "    for i in range(num_questions):\n",
    "        left_operand, operator, right_operand = create_question()\n",
    "        print(f\"Question {i + 1}: What is {left_operand} {operator} {right_operand}?\")\n",
    "        user_answer = int(input(\"Your answer: \"))\n",
    "        if check_answer(left_operand, operator, right_operand, user_answer):\n",
    "            print(\"Correct!\")\n",
    "            score += 1\n",
    "        else:\n",
    "            print(f\"Wrong! The correct answer is {left_operand} {operator} {right_operand} = {left_operand + right_operand}\")\n",
    "    print(f\"Your final score is {score}/{num_questions}\")\n",
    "\n",
    "run_quiz(10)"
   ]
  },
  {
   "cell_type": "code",
   "execution_count": null,
   "id": "e2eecb98",
   "metadata": {},
   "outputs": [],
   "source": []
  }
 ],
 "metadata": {
  "kernelspec": {
   "display_name": "Python 3 (ipykernel)",
   "language": "python",
   "name": "python3"
  },
  "language_info": {
   "codemirror_mode": {
    "name": "ipython",
    "version": 3
   },
   "file_extension": ".py",
   "mimetype": "text/x-python",
   "name": "python",
   "nbconvert_exporter": "python",
   "pygments_lexer": "ipython3",
   "version": "3.11.4"
  }
 },
 "nbformat": 4,
 "nbformat_minor": 5
}
