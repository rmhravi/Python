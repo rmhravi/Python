{
 "cells": [
  {
   "cell_type": "code",
   "execution_count": 5,
   "id": "deb14b00",
   "metadata": {},
   "outputs": [
    {
     "name": "stdout",
     "output_type": "stream",
     "text": [
      "25\n"
     ]
    }
   ],
   "source": [
    "#1\n",
    "x=lambda a:a+15\n",
    "print(x(10))"
   ]
  },
  {
   "cell_type": "code",
   "execution_count": 9,
   "id": "e211fdec",
   "metadata": {},
   "outputs": [
    {
     "name": "stdout",
     "output_type": "stream",
     "text": [
      "8\n"
     ]
    }
   ],
   "source": [
    "i=lambda x,y:x*y\n",
    "print(i(2,4))"
   ]
  },
  {
   "cell_type": "code",
   "execution_count": 1,
   "id": "cca7c37f",
   "metadata": {},
   "outputs": [
    {
     "name": "stdout",
     "output_type": "stream",
     "text": [
      "enter a number to get 100: 5\n",
      "Multiply to get 100 = 100\n"
     ]
    }
   ],
   "source": [
    "#2\n",
    "def mult(n):\n",
    "    return lambda x: x * n\n",
    "result = mult(int(input('enter a number to get 100: ')))\n",
    "print('Multiply to get 100 =',result(20))"
   ]
  },
  {
   "cell_type": "code",
   "execution_count": 7,
   "id": "224bc478",
   "metadata": {},
   "outputs": [
    {
     "name": "stdout",
     "output_type": "stream",
     "text": [
      "[('Social science', 82), ('English', 88), ('Science', 90), ('Maths', 97)]\n"
     ]
    }
   ],
   "source": [
    "#3\n",
    "x=[('English',88),('Science',90),('Maths',97),('Social science',82)]\n",
    "x.sort(key=lambda x:x[1])\n",
    "print(x)"
   ]
  },
  {
   "cell_type": "code",
   "execution_count": 17,
   "id": "411d34fc",
   "metadata": {},
   "outputs": [
    {
     "name": "stdout",
     "output_type": "stream",
     "text": [
      "[2, 4, 6, 8, 10]\n"
     ]
    }
   ],
   "source": [
    "#4\n",
    "def filter_even(n):\n",
    "    return True if n%2==0 else False\n",
    "print(list(filter(filter_even,[1,2,3,4,5,6,7,8,9,10])))"
   ]
  },
  {
   "cell_type": "code",
   "execution_count": 19,
   "id": "43242799",
   "metadata": {},
   "outputs": [
    {
     "name": "stdout",
     "output_type": "stream",
     "text": [
      "[1, 3, 5, 7, 9]\n"
     ]
    }
   ],
   "source": [
    "def filter_odd(n):\n",
    "    return True if n%2==1 else False\n",
    "print(list(filter(filter_odd,[1,2,3,4,5,6,7,8,9,10])))"
   ]
  },
  {
   "cell_type": "code",
   "execution_count": 7,
   "id": "059a09d5",
   "metadata": {},
   "outputs": [
    {
     "name": "stdout",
     "output_type": "stream",
     "text": [
      "True\n",
      "False\n"
     ]
    }
   ],
   "source": [
    "#5\n",
    "char = lambda s, c: True if s.startswith(c) else False\n",
    "\n",
    "print(char(\"hello\",\"h\"))\n",
    "print(char(\"hello\",\"o\"))"
   ]
  },
  {
   "cell_type": "code",
   "execution_count": 9,
   "id": "cfbfbacf",
   "metadata": {},
   "outputs": [
    {
     "name": "stdout",
     "output_type": "stream",
     "text": [
      "[3, 6, 9, 12, 15, 18]\n"
     ]
    }
   ],
   "source": [
    "#6\n",
    "def triple(n):\n",
    "    return n * 3\n",
    "print(list(map(triple,[1,2,3,4,5,6])))"
   ]
  },
  {
   "cell_type": "code",
   "execution_count": 12,
   "id": "ee446f2c",
   "metadata": {},
   "outputs": [
    {
     "name": "stdout",
     "output_type": "stream",
     "text": [
      "[12, 15, 18]\n"
     ]
    }
   ],
   "source": [
    "#7\n",
    "list1 = [1, 2, 3]\n",
    "list2 = [4, 5, 6]\n",
    "list3 = [7, 8, 9]\n",
    "added_lists = list(map(lambda x, y, z: x + y + z, list1, list2, list3))\n",
    "print(added_lists,)"
   ]
  },
  {
   "cell_type": "code",
   "execution_count": 30,
   "id": "a4fe6370",
   "metadata": {},
   "outputs": [
    {
     "name": "stdout",
     "output_type": "stream",
     "text": [
      "[1, 4, 27, 256, 3125]\n"
     ]
    }
   ],
   "source": [
    "#8\n",
    "def power(x, y):\n",
    "    return x ** y\n",
    "list1 = [1,2,3,4,5]\n",
    "results = list(map(lambda x: power(x, x), list1))\n",
    "print(results)"
   ]
  },
  {
   "cell_type": "code",
   "execution_count": null,
   "id": "b2a09533",
   "metadata": {},
   "outputs": [],
   "source": []
  }
 ],
 "metadata": {
  "kernelspec": {
   "display_name": "Python 3 (ipykernel)",
   "language": "python",
   "name": "python3"
  },
  "language_info": {
   "codemirror_mode": {
    "name": "ipython",
    "version": 3
   },
   "file_extension": ".py",
   "mimetype": "text/x-python",
   "name": "python",
   "nbconvert_exporter": "python",
   "pygments_lexer": "ipython3",
   "version": "3.11.4"
  }
 },
 "nbformat": 4,
 "nbformat_minor": 5
}
