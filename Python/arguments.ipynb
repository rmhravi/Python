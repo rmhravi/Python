{
 "cells": [
  {
   "cell_type": "code",
   "execution_count": 6,
   "id": "e9fea287",
   "metadata": {},
   "outputs": [
    {
     "name": "stdout",
     "output_type": "stream",
     "text": [
      "salih ummer vittaj\n"
     ]
    }
   ],
   "source": [
    "def print_name(b,a,c):\n",
    "    print(a,b,c)\n",
    "    \n",
    "print_name('ummer','salih','vittaj')"
   ]
  },
  {
   "cell_type": "code",
   "execution_count": 9,
   "id": "ea000d5c",
   "metadata": {},
   "outputs": [
    {
     "name": "stdout",
     "output_type": "stream",
     "text": [
      "ummer\n"
     ]
    }
   ],
   "source": [
    "#*args\n",
    "def print_name(*a):\n",
    "    print(a[0])\n",
    "    \n",
    "print_name('ummer','salih','vittaj')"
   ]
  },
  {
   "cell_type": "code",
   "execution_count": 8,
   "id": "f07333a8",
   "metadata": {},
   "outputs": [
    {
     "name": "stdout",
     "output_type": "stream",
     "text": [
      "salih\n"
     ]
    }
   ],
   "source": [
    "#**kwargs\n",
    "def print_name(**n):\n",
    "    print(n['b'])\n",
    "    \n",
    "print_name(a='ummer',b='salih',c='vittaj')"
   ]
  },
  {
   "cell_type": "code",
   "execution_count": 11,
   "id": "9109e991",
   "metadata": {},
   "outputs": [
    {
     "name": "stdout",
     "output_type": "stream",
     "text": [
      "car manufacturer is bmw\n"
     ]
    }
   ],
   "source": [
    "def car_manufact(**carname):\n",
    "    print('car manufacturer is '+carname[\"carname2\"])\n",
    "car_manufact(carname1='mercedez',carname2='bmw',carname='audi')"
   ]
  },
  {
   "cell_type": "code",
   "execution_count": 12,
   "id": "14811a2b",
   "metadata": {},
   "outputs": [
    {
     "name": "stdout",
     "output_type": "stream",
     "text": [
      "The car type is SUV\n",
      "The car type is MUV\n",
      "The car type is GT\n"
     ]
    }
   ],
   "source": [
    "#default parameter\n",
    "def car_model(car_type =\"GT\"):\n",
    "    print(\"The car type is \"+ car_type)\n",
    "\n",
    "car_model(\"SUV\")\n",
    "car_model(\"MUV\")\n",
    "car_model()"
   ]
  },
  {
   "cell_type": "code",
   "execution_count": 1,
   "id": "3c0e9c76",
   "metadata": {},
   "outputs": [
    {
     "data": {
      "text/plain": [
       "'C:\\\\Users\\\\USER\\\\Ramesh\\\\Python'"
      ]
     },
     "execution_count": 1,
     "metadata": {},
     "output_type": "execute_result"
    }
   ],
   "source": [
    "pwd"
   ]
  },
  {
   "cell_type": "code",
   "execution_count": null,
   "id": "4fc0c7e6",
   "metadata": {},
   "outputs": [],
   "source": []
  }
 ],
 "metadata": {
  "kernelspec": {
   "display_name": "Python 3 (ipykernel)",
   "language": "python",
   "name": "python3"
  },
  "language_info": {
   "codemirror_mode": {
    "name": "ipython",
    "version": 3
   },
   "file_extension": ".py",
   "mimetype": "text/x-python",
   "name": "python",
   "nbconvert_exporter": "python",
   "pygments_lexer": "ipython3",
   "version": "3.11.4"
  }
 },
 "nbformat": 4,
 "nbformat_minor": 5
}
