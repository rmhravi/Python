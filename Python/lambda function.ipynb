{
 "cells": [
  {
   "cell_type": "code",
   "execution_count": 1,
   "id": "d3c3dd75",
   "metadata": {},
   "outputs": [
    {
     "name": "stdout",
     "output_type": "stream",
     "text": [
      "6\n"
     ]
    }
   ],
   "source": [
    "y=lambda x:x+1\n",
    "print(y(5))"
   ]
  },
  {
   "cell_type": "code",
   "execution_count": 2,
   "id": "af95281b",
   "metadata": {},
   "outputs": [
    {
     "name": "stdout",
     "output_type": "stream",
     "text": [
      "5\n"
     ]
    }
   ],
   "source": [
    "x=lambda a,b:a+b\n",
    "print(x(2,3))"
   ]
  },
  {
   "cell_type": "code",
   "execution_count": 3,
   "id": "25e0c511",
   "metadata": {},
   "outputs": [
    {
     "name": "stdout",
     "output_type": "stream",
     "text": [
      "20\n"
     ]
    }
   ],
   "source": [
    "x=lambda a,b,c:a+b*c\n",
    "print(x(2,3,6))"
   ]
  },
  {
   "cell_type": "code",
   "execution_count": 5,
   "id": "467fdbaf",
   "metadata": {},
   "outputs": [
    {
     "name": "stdout",
     "output_type": "stream",
     "text": [
      "odd\n"
     ]
    }
   ],
   "source": [
    "x=lambda a:'even' if a%2==0 else 'odd'\n",
    "print(x(3))"
   ]
  },
  {
   "cell_type": "code",
   "execution_count": 6,
   "id": "68cb32bc",
   "metadata": {},
   "outputs": [
    {
     "name": "stdout",
     "output_type": "stream",
     "text": [
      "8\n"
     ]
    }
   ],
   "source": [
    "x=lambda a:a**3\n",
    "print(x(2))"
   ]
  },
  {
   "cell_type": "code",
   "execution_count": 8,
   "id": "d507b742",
   "metadata": {},
   "outputs": [
    {
     "name": "stdout",
     "output_type": "stream",
     "text": [
      "[0, 1, 4, 9, 16, 25, 36, 49, 64, 81]\n"
     ]
    }
   ],
   "source": [
    "x=lambda n:[i**2 for i in range(n)]\n",
    "print(x(10))"
   ]
  },
  {
   "cell_type": "code",
   "execution_count": 9,
   "id": "7a934c4b",
   "metadata": {},
   "outputs": [
    {
     "name": "stdout",
     "output_type": "stream",
     "text": [
      "ANUPAMA\n"
     ]
    }
   ],
   "source": [
    "y=lambda x:x.upper()\n",
    "print(y('anupama'))"
   ]
  },
  {
   "cell_type": "code",
   "execution_count": 10,
   "id": "18b52054",
   "metadata": {},
   "outputs": [
    {
     "name": "stdout",
     "output_type": "stream",
     "text": [
      "[1, 2, 3, 4, 5, 6]\n"
     ]
    }
   ],
   "source": [
    "x=lambda n:sorted(n)\n",
    "print(x([1,6,3,4,2,5]))"
   ]
  },
  {
   "cell_type": "code",
   "execution_count": 15,
   "id": "935c5de4",
   "metadata": {},
   "outputs": [
    {
     "name": "stdout",
     "output_type": "stream",
     "text": [
      "[(3, 2), (1, 4), (2, 5)]\n"
     ]
    }
   ],
   "source": [
    "x=[(1,4),(2,5),(3,2)]\n",
    "x.sort(key=lambda x:x[1])\n",
    "print(x)"
   ]
  },
  {
   "cell_type": "code",
   "execution_count": 16,
   "id": "42b23907",
   "metadata": {},
   "outputs": [
    {
     "name": "stdout",
     "output_type": "stream",
     "text": [
      "[(1, 4), (2, 5), (3, 2)]\n"
     ]
    }
   ],
   "source": [
    "y=lambda x:sorted(x)\n",
    "print(y([(1,4),(2,5),(3,2)]))"
   ]
  },
  {
   "cell_type": "code",
   "execution_count": 17,
   "id": "fec8f707",
   "metadata": {},
   "outputs": [
    {
     "name": "stdout",
     "output_type": "stream",
     "text": [
      "[{'make': 'Nokia', 'model': 216, 'color': 'Black'}, {'make': 'Samsung', 'model': 7, 'color': 'Blue'}, {'make': 'Mi Max', 'model': 2, 'color': 'Gold'}]\n"
     ]
    }
   ],
   "source": [
    "models = [{'make':'Nokia', 'model':216, 'color':'Black'},\n",
    "         {'make':'Mi Max', 'model':2, 'color':'Gold'},\n",
    "         {'make':'Samsung', 'model':7,'color':'Blue'}]\n",
    "models.sort(key = lambda x:x['color'])\n",
    "print(models)"
   ]
  },
  {
   "cell_type": "code",
   "execution_count": null,
   "id": "b71c4784",
   "metadata": {},
   "outputs": [],
   "source": [
    "#map()"
   ]
  },
  {
   "cell_type": "code",
   "execution_count": 18,
   "id": "f7e61cce",
   "metadata": {},
   "outputs": [
    {
     "name": "stdout",
     "output_type": "stream",
     "text": [
      "[1, 8, 27, 64]\n"
     ]
    }
   ],
   "source": [
    "def cube(n):\n",
    "    return n**3\n",
    "print(list(map(cube,[1,2,3,4])))"
   ]
  },
  {
   "cell_type": "code",
   "execution_count": 19,
   "id": "b84ce116",
   "metadata": {},
   "outputs": [
    {
     "name": "stdout",
     "output_type": "stream",
     "text": [
      "[1, 4, 9, 16]\n"
     ]
    }
   ],
   "source": [
    "def square(n):\n",
    "    return n**2\n",
    "print(list(map(square,[1,2,3,4])))"
   ]
  },
  {
   "cell_type": "code",
   "execution_count": 20,
   "id": "937c85ec",
   "metadata": {},
   "outputs": [
    {
     "name": "stdout",
     "output_type": "stream",
     "text": [
      "[1, 2, 3, 4, 8]\n"
     ]
    }
   ],
   "source": [
    "print(list(map(abs,[1,2,3,-4,-8])))"
   ]
  },
  {
   "cell_type": "code",
   "execution_count": 21,
   "id": "86a1f798",
   "metadata": {},
   "outputs": [
    {
     "name": "stdout",
     "output_type": "stream",
     "text": [
      "[5.0, 3.0, 6.0, 2.0]\n"
     ]
    }
   ],
   "source": [
    "from math import sqrt\n",
    "print(list(map(sqrt,[25,9,36,4])))"
   ]
  },
  {
   "cell_type": "code",
   "execution_count": 22,
   "id": "f823744d",
   "metadata": {},
   "outputs": [
    {
     "name": "stdout",
     "output_type": "stream",
     "text": [
      "[2, 3, 4, 5]\n"
     ]
    }
   ],
   "source": [
    "print(list(map(lambda x:x+1,[1,2,3,4])))"
   ]
  },
  {
   "cell_type": "code",
   "execution_count": 23,
   "id": "1929aa92",
   "metadata": {},
   "outputs": [
    {
     "name": "stdout",
     "output_type": "stream",
     "text": [
      "['A', 'N', 'U', 'P', 'A', 'M', 'A']\n"
     ]
    }
   ],
   "source": [
    "print(list(map(lambda x:x.upper(),'anupama')))"
   ]
  },
  {
   "cell_type": "code",
   "execution_count": 24,
   "id": "0d179faa",
   "metadata": {},
   "outputs": [
    {
     "name": "stdout",
     "output_type": "stream",
     "text": [
      "[1, 4, 9, 16]\n"
     ]
    }
   ],
   "source": [
    "print(list(map(lambda x:x**2,[1,2,3,4])))"
   ]
  },
  {
   "cell_type": "code",
   "execution_count": 25,
   "id": "57053115",
   "metadata": {},
   "outputs": [],
   "source": [
    "#filter()"
   ]
  },
  {
   "cell_type": "code",
   "execution_count": 26,
   "id": "ad617136",
   "metadata": {},
   "outputs": [
    {
     "name": "stdout",
     "output_type": "stream",
     "text": [
      "[1, 2, 3]\n"
     ]
    }
   ],
   "source": [
    "def positive(n):\n",
    "    return True if n>0 else False\n",
    "print(list(filter(positive,[1,-2,-3,-1,2,3])))"
   ]
  },
  {
   "cell_type": "code",
   "execution_count": 27,
   "id": "828fabdb",
   "metadata": {},
   "outputs": [
    {
     "name": "stdout",
     "output_type": "stream",
     "text": [
      "['A', 'P', 'M']\n"
     ]
    }
   ],
   "source": [
    "print(list(filter(lambda x:x.isupper(),'AnuPaMa')))"
   ]
  },
  {
   "cell_type": "code",
   "execution_count": 28,
   "id": "13fab57c",
   "metadata": {},
   "outputs": [
    {
     "name": "stdout",
     "output_type": "stream",
     "text": [
      "['A', 'n', 'u', 'p', 'a', 'M', 'a']\n"
     ]
    }
   ],
   "source": [
    "print(list(filter(lambda x:x.isalpha(),'AnupaMa')))"
   ]
  },
  {
   "cell_type": "code",
   "execution_count": 29,
   "id": "2bd4e5fc",
   "metadata": {},
   "outputs": [
    {
     "name": "stdout",
     "output_type": "stream",
     "text": [
      "['n', 'u', 'p', 'a', 'a']\n"
     ]
    }
   ],
   "source": [
    "print(list(filter(lambda x:x.islower(),'AnupaMa')))"
   ]
  },
  {
   "cell_type": "code",
   "execution_count": 30,
   "id": "118bb5d7",
   "metadata": {},
   "outputs": [],
   "source": [
    "#reduce"
   ]
  },
  {
   "cell_type": "code",
   "execution_count": 31,
   "id": "9b5f10c0",
   "metadata": {},
   "outputs": [
    {
     "name": "stdout",
     "output_type": "stream",
     "text": [
      "10\n"
     ]
    }
   ],
   "source": [
    "from functools import reduce\n",
    "def sum_list(x,y):\n",
    "    return x+y\n",
    "print(reduce(sum_list,[1,2,3,4]))"
   ]
  },
  {
   "cell_type": "code",
   "execution_count": 32,
   "id": "dabfbc9d",
   "metadata": {},
   "outputs": [
    {
     "name": "stdout",
     "output_type": "stream",
     "text": [
      "24\n"
     ]
    }
   ],
   "source": [
    "def mult_list(x,y):\n",
    "    return x*y\n",
    "print(reduce(mult_list,[1,2,3,4]))"
   ]
  },
  {
   "cell_type": "code",
   "execution_count": 33,
   "id": "a28680ea",
   "metadata": {},
   "outputs": [
    {
     "name": "stdout",
     "output_type": "stream",
     "text": [
      "24\n"
     ]
    }
   ],
   "source": [
    "print(reduce(lambda x,y:x*y,[1,2,3,4]))"
   ]
  },
  {
   "cell_type": "code",
   "execution_count": null,
   "id": "2eab6693",
   "metadata": {},
   "outputs": [],
   "source": []
  }
 ],
 "metadata": {
  "kernelspec": {
   "display_name": "Python 3 (ipykernel)",
   "language": "python",
   "name": "python3"
  },
  "language_info": {
   "codemirror_mode": {
    "name": "ipython",
    "version": 3
   },
   "file_extension": ".py",
   "mimetype": "text/x-python",
   "name": "python",
   "nbconvert_exporter": "python",
   "pygments_lexer": "ipython3",
   "version": "3.11.4"
  }
 },
 "nbformat": 4,
 "nbformat_minor": 5
}
