{
 "cells": [
  {
   "cell_type": "code",
   "execution_count": 1,
   "id": "5786f62c",
   "metadata": {},
   "outputs": [
    {
     "name": "stdout",
     "output_type": "stream",
     "text": [
      "0 s\n",
      "1 t\n",
      "2 r\n",
      "3 i\n",
      "4 n\n",
      "5 g\n",
      "6 1\n"
     ]
    }
   ],
   "source": [
    "pattern='string1'\n",
    "for i in range(len(pattern)):\n",
    "    print(i,pattern[i])"
   ]
  },
  {
   "cell_type": "code",
   "execution_count": 2,
   "id": "e9c70986",
   "metadata": {},
   "outputs": [
    {
     "name": "stdout",
     "output_type": "stream",
     "text": [
      "1 s\n",
      "2 t\n",
      "3 r\n",
      "4 i\n",
      "5 n\n",
      "6 g\n",
      "7 1\n"
     ]
    }
   ],
   "source": [
    "for pos,p in enumerate(pattern,1):\n",
    "    print(pos,p)"
   ]
  },
  {
   "cell_type": "code",
   "execution_count": 5,
   "id": "368dcda2",
   "metadata": {},
   "outputs": [
    {
     "data": {
      "text/plain": [
       "((0, 's'), (1, 't'), (2, 'r'), (3, 'i'), (4, 'n'), (5, 'g'), (6, '1'))"
      ]
     },
     "execution_count": 5,
     "metadata": {},
     "output_type": "execute_result"
    }
   ],
   "source": [
    "tuple(enumerate(pattern))"
   ]
  },
  {
   "cell_type": "code",
   "execution_count": 4,
   "id": "ea4618f4",
   "metadata": {},
   "outputs": [
    {
     "name": "stdout",
     "output_type": "stream",
     "text": [
      "{0: 's', 1: 't', 2: 'r', 3: 'i', 4: 'n', 5: 'g', 6: '1'}\n"
     ]
    }
   ],
   "source": [
    "print(dict(enumerate(pattern)))"
   ]
  },
  {
   "cell_type": "code",
   "execution_count": 6,
   "id": "b46d2bc5",
   "metadata": {},
   "outputs": [
    {
     "name": "stdout",
     "output_type": "stream",
     "text": [
      "[(0, 1), (1, 2), (2, 3), (3, 4)]\n"
     ]
    }
   ],
   "source": [
    "list1=list(enumerate([1,2,3,4]))\n",
    "print(list1)"
   ]
  },
  {
   "cell_type": "markdown",
   "id": "20e97d2d",
   "metadata": {},
   "source": [
    "# REGX MODULE"
   ]
  },
  {
   "cell_type": "code",
   "execution_count": 2,
   "id": "25a40671",
   "metadata": {},
   "outputs": [],
   "source": [
    "import re"
   ]
  },
  {
   "cell_type": "code",
   "execution_count": 3,
   "id": "e4454160",
   "metadata": {},
   "outputs": [
    {
     "name": "stdout",
     "output_type": "stream",
     "text": [
      "g\n",
      "\t*\n",
      "g\\n\\t*\n"
     ]
    }
   ],
   "source": [
    "print('g\\n\\t*')\n",
    "print(r'g\\n\\t*')"
   ]
  },
  {
   "cell_type": "code",
   "execution_count": 7,
   "id": "28dd5581",
   "metadata": {},
   "outputs": [
    {
     "ename": "NameError",
     "evalue": "name 'pattern' is not defined",
     "output_type": "error",
     "traceback": [
      "\u001b[1;31m---------------------------------------------------------------------------\u001b[0m",
      "\u001b[1;31mNameError\u001b[0m                                 Traceback (most recent call last)",
      "Cell \u001b[1;32mIn[7], line 1\u001b[0m\n\u001b[1;32m----> 1\u001b[0m re\u001b[38;5;241m.\u001b[39msearch(pattern,string,flags\u001b[38;5;241m=\u001b[39m\u001b[38;5;241m0\u001b[39m)\n",
      "\u001b[1;31mNameError\u001b[0m: name 'pattern' is not defined"
     ]
    }
   ],
   "source": [
    "re.search(pattern,string)"
   ]
  },
  {
   "cell_type": "code",
   "execution_count": 6,
   "id": "0cad3427",
   "metadata": {},
   "outputs": [
    {
     "name": "stdout",
     "output_type": "stream",
     "text": [
      "Help on function search in module re:\n",
      "\n",
      "search(pattern, string, flags=0)\n",
      "    Scan through string looking for a match to the pattern, returning\n",
      "    a Match object, or None if no match was found.\n",
      "\n"
     ]
    }
   ],
   "source": [
    "help(re.search)"
   ]
  },
  {
   "cell_type": "raw",
   "id": "3552a05f",
   "metadata": {},
   "source": [
    "1. write a python program that matches a string contains 1 followed by zero or more 0's"
   ]
  },
  {
   "cell_type": "code",
   "execution_count": 12,
   "id": "21fc9d73",
   "metadata": {},
   "outputs": [],
   "source": [
    "import re"
   ]
  },
  {
   "cell_type": "code",
   "execution_count": 20,
   "id": "1f148a1c",
   "metadata": {},
   "outputs": [
    {
     "name": "stdout",
     "output_type": "stream",
     "text": [
      "<re.Match object; span=(4, 8), match='1000'>\n"
     ]
    }
   ],
   "source": [
    "pattern=r'10*'\n",
    "print(re.search(pattern,'abcd1000'))"
   ]
  },
  {
   "cell_type": "raw",
   "id": "7f46f47f",
   "metadata": {},
   "source": [
    "2.write a python program that matches a string contains 1 followed by one zero or more 0's"
   ]
  },
  {
   "cell_type": "code",
   "execution_count": 21,
   "id": "2525d6ef",
   "metadata": {},
   "outputs": [
    {
     "name": "stdout",
     "output_type": "stream",
     "text": [
      "<re.Match object; span=(4, 6), match='10'>\n"
     ]
    }
   ],
   "source": [
    "pattern=r'10+'\n",
    "print(re.search(pattern,'abcd10'))"
   ]
  },
  {
   "cell_type": "raw",
   "id": "6057086c",
   "metadata": {},
   "source": [
    "3. write a python program that matches a string contains a letter followed by zero or one 0's"
   ]
  },
  {
   "cell_type": "code",
   "execution_count": 22,
   "id": "2979d213",
   "metadata": {},
   "outputs": [
    {
     "name": "stdout",
     "output_type": "stream",
     "text": [
      "<re.Match object; span=(0, 1), match='a'>\n"
     ]
    }
   ],
   "source": [
    "pattern = r'[a-z]0?'\n",
    "print(re.search(pattern,'agfewaytrv 103830384212'))"
   ]
  },
  {
   "cell_type": "code",
   "execution_count": null,
   "id": "2834c8c6",
   "metadata": {},
   "outputs": [],
   "source": []
  }
 ],
 "metadata": {
  "kernelspec": {
   "display_name": "Python 3 (ipykernel)",
   "language": "python",
   "name": "python3"
  },
  "language_info": {
   "codemirror_mode": {
    "name": "ipython",
    "version": 3
   },
   "file_extension": ".py",
   "mimetype": "text/x-python",
   "name": "python",
   "nbconvert_exporter": "python",
   "pygments_lexer": "ipython3",
   "version": "3.11.4"
  }
 },
 "nbformat": 4,
 "nbformat_minor": 5
}
