{
 "cells": [
  {
   "cell_type": "code",
   "execution_count": 2,
   "id": "180e46c8",
   "metadata": {},
   "outputs": [],
   "source": [
    "import re"
   ]
  },
  {
   "cell_type": "code",
   "execution_count": 2,
   "id": "55e746f3",
   "metadata": {},
   "outputs": [
    {
     "name": "stdout",
     "output_type": "stream",
     "text": [
      "<re.Match object; span=(4, 8), match='1000'>\n"
     ]
    }
   ],
   "source": [
    "pattern=r'10*'\n",
    "print(re.search(pattern,'abcd1000'))"
   ]
  },
  {
   "cell_type": "code",
   "execution_count": 3,
   "id": "a05cbc40",
   "metadata": {},
   "outputs": [
    {
     "name": "stdout",
     "output_type": "stream",
     "text": [
      "<re.Match object; span=(0, 4), match='1000'>\n"
     ]
    }
   ],
   "source": [
    "pattern=r'10*'\n",
    "print(re.match(pattern,'1000abcd1000'))"
   ]
  },
  {
   "cell_type": "code",
   "execution_count": 5,
   "id": "12651f97",
   "metadata": {},
   "outputs": [
    {
     "name": "stdout",
     "output_type": "stream",
     "text": [
      "<re.Match object; span=(15, 23), match='tutorial'>\n"
     ]
    }
   ],
   "source": [
    "pattern=r'\\w{8}'\n",
    "print(re.search(pattern,'This is python tutorial'))"
   ]
  },
  {
   "cell_type": "code",
   "execution_count": 6,
   "id": "135b7b8d",
   "metadata": {},
   "outputs": [
    {
     "name": "stdout",
     "output_type": "stream",
     "text": [
      "<re.Match object; span=(0, 8), match='tutorial'>\n"
     ]
    }
   ],
   "source": [
    "pattern=r'\\w{8}'\n",
    "print(re.match(pattern,'tutorial This is python tutorial'))"
   ]
  },
  {
   "cell_type": "markdown",
   "id": "be31bf89",
   "metadata": {},
   "source": [
    "### findall ()"
   ]
  },
  {
   "cell_type": "code",
   "execution_count": 7,
   "id": "91013104",
   "metadata": {},
   "outputs": [
    {
     "name": "stdout",
     "output_type": "stream",
     "text": [
      "<re.Match object; span=(0, 8), match='tutorial'>\n"
     ]
    }
   ],
   "source": [
    "pattern=r'\\w{8}'\n",
    "print(re.search(pattern,'tutorial This is python tutorial'))"
   ]
  },
  {
   "cell_type": "code",
   "execution_count": 8,
   "id": "10b85695",
   "metadata": {},
   "outputs": [
    {
     "name": "stdout",
     "output_type": "stream",
     "text": [
      "['tutorial', 'tutorial', 'tutorial']\n"
     ]
    }
   ],
   "source": [
    "pattern=r'\\w{8}'\n",
    "print(re.findall(pattern,'tutorial This is python tutorial tutorial'))"
   ]
  },
  {
   "cell_type": "code",
   "execution_count": 4,
   "id": "fafc3619",
   "metadata": {},
   "outputs": [
    {
     "name": "stdout",
     "output_type": "stream",
     "text": [
      "['tutorial', 'tutorial']\n"
     ]
    }
   ],
   "source": [
    "pattern=r'\\b\\w{8}\\b'\n",
    "print(re.findall(pattern,'This is python tutorial tutorial tutorials'))"
   ]
  },
  {
   "cell_type": "markdown",
   "id": "7b512b72",
   "metadata": {},
   "source": [
    "### sub() "
   ]
  },
  {
   "cell_type": "code",
   "execution_count": 6,
   "id": "ce32e9cc",
   "metadata": {},
   "outputs": [
    {
     "name": "stdout",
     "output_type": "stream",
     "text": [
      ";;d;y;u;;;d\n"
     ]
    }
   ],
   "source": [
    "pattern=r'[,.\\s]'\n",
    "print(re.sub(pattern,';',' ,d,y,u. .d'))"
   ]
  },
  {
   "cell_type": "code",
   "execution_count": null,
   "id": "95a86910",
   "metadata": {},
   "outputs": [],
   "source": []
  }
 ],
 "metadata": {
  "kernelspec": {
   "display_name": "Python 3 (ipykernel)",
   "language": "python",
   "name": "python3"
  },
  "language_info": {
   "codemirror_mode": {
    "name": "ipython",
    "version": 3
   },
   "file_extension": ".py",
   "mimetype": "text/x-python",
   "name": "python",
   "nbconvert_exporter": "python",
   "pygments_lexer": "ipython3",
   "version": "3.11.4"
  }
 },
 "nbformat": 4,
 "nbformat_minor": 5
}
