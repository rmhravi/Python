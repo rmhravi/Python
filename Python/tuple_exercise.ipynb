{
 "cells": [
  {
   "cell_type": "code",
   "execution_count": 2,
   "id": "c92b1a99",
   "metadata": {},
   "outputs": [],
   "source": [
    "#Q1\n",
    "t1=(1,2,3)\n",
    "t2=('a','b','c')\n",
    "t3=(1.5,2.5,3.5)"
   ]
  },
  {
   "cell_type": "code",
   "execution_count": 3,
   "id": "eecf764e",
   "metadata": {},
   "outputs": [
    {
     "data": {
      "text/plain": [
       "tuple"
      ]
     },
     "execution_count": 3,
     "metadata": {},
     "output_type": "execute_result"
    }
   ],
   "source": [
    "type(t3)"
   ]
  },
  {
   "cell_type": "code",
   "execution_count": 4,
   "id": "502c15bf",
   "metadata": {},
   "outputs": [],
   "source": [
    "#Q2\n",
    "l1=list(t1)"
   ]
  },
  {
   "cell_type": "code",
   "execution_count": 5,
   "id": "62f94c5b",
   "metadata": {},
   "outputs": [
    {
     "data": {
      "text/plain": [
       "[1, 2, 3]"
      ]
     },
     "execution_count": 5,
     "metadata": {},
     "output_type": "execute_result"
    }
   ],
   "source": [
    "l1"
   ]
  },
  {
   "cell_type": "code",
   "execution_count": 6,
   "id": "ee7fe776",
   "metadata": {},
   "outputs": [
    {
     "data": {
      "text/plain": [
       "list"
      ]
     },
     "execution_count": 6,
     "metadata": {},
     "output_type": "execute_result"
    }
   ],
   "source": [
    "type(l1)"
   ]
  },
  {
   "cell_type": "code",
   "execution_count": 7,
   "id": "c8b8e230",
   "metadata": {},
   "outputs": [],
   "source": [
    "l1.append(4)"
   ]
  },
  {
   "cell_type": "code",
   "execution_count": 8,
   "id": "50ddb37f",
   "metadata": {},
   "outputs": [
    {
     "data": {
      "text/plain": [
       "[1, 2, 3, 4]"
      ]
     },
     "execution_count": 8,
     "metadata": {},
     "output_type": "execute_result"
    }
   ],
   "source": [
    "l1"
   ]
  },
  {
   "cell_type": "code",
   "execution_count": 9,
   "id": "5efa803f",
   "metadata": {},
   "outputs": [],
   "source": [
    "t1=tuple(l1)"
   ]
  },
  {
   "cell_type": "code",
   "execution_count": 10,
   "id": "0268887e",
   "metadata": {},
   "outputs": [
    {
     "data": {
      "text/plain": [
       "tuple"
      ]
     },
     "execution_count": 10,
     "metadata": {},
     "output_type": "execute_result"
    }
   ],
   "source": [
    "type(t1)"
   ]
  },
  {
   "cell_type": "code",
   "execution_count": 11,
   "id": "0c9fc4fe",
   "metadata": {},
   "outputs": [
    {
     "data": {
      "text/plain": [
       "(1, 2, 3, 4)"
      ]
     },
     "execution_count": 11,
     "metadata": {},
     "output_type": "execute_result"
    }
   ],
   "source": [
    "t1"
   ]
  },
  {
   "cell_type": "code",
   "execution_count": 12,
   "id": "96960222",
   "metadata": {},
   "outputs": [],
   "source": [
    "#Q3\n",
    "l2=list(t2)"
   ]
  },
  {
   "cell_type": "code",
   "execution_count": 13,
   "id": "23f2a212",
   "metadata": {},
   "outputs": [
    {
     "data": {
      "text/plain": [
       "['a', 'b', 'c']"
      ]
     },
     "execution_count": 13,
     "metadata": {},
     "output_type": "execute_result"
    }
   ],
   "source": [
    "l2"
   ]
  },
  {
   "cell_type": "code",
   "execution_count": 14,
   "id": "eef377d6",
   "metadata": {},
   "outputs": [],
   "source": [
    "l2.append('d')"
   ]
  },
  {
   "cell_type": "code",
   "execution_count": 15,
   "id": "42003a82",
   "metadata": {},
   "outputs": [
    {
     "data": {
      "text/plain": [
       "['a', 'b', 'c', 'd']"
      ]
     },
     "execution_count": 15,
     "metadata": {},
     "output_type": "execute_result"
    }
   ],
   "source": [
    "l2"
   ]
  },
  {
   "cell_type": "code",
   "execution_count": 16,
   "id": "7ad8ea72",
   "metadata": {},
   "outputs": [],
   "source": [
    "t2=tuple(l2)"
   ]
  },
  {
   "cell_type": "code",
   "execution_count": 17,
   "id": "3e6e580b",
   "metadata": {},
   "outputs": [
    {
     "data": {
      "text/plain": [
       "('a', 'b', 'c', 'd')"
      ]
     },
     "execution_count": 17,
     "metadata": {},
     "output_type": "execute_result"
    }
   ],
   "source": [
    "t2"
   ]
  },
  {
   "cell_type": "code",
   "execution_count": 18,
   "id": "8ea61e93",
   "metadata": {},
   "outputs": [
    {
     "data": {
      "text/plain": [
       "(1, 2, 3, 4)"
      ]
     },
     "execution_count": 18,
     "metadata": {},
     "output_type": "execute_result"
    }
   ],
   "source": [
    "t1"
   ]
  },
  {
   "cell_type": "code",
   "execution_count": 19,
   "id": "76dbcbbb",
   "metadata": {},
   "outputs": [
    {
     "data": {
      "text/plain": [
       "'(1, 2, 3, 4)'"
      ]
     },
     "execution_count": 19,
     "metadata": {},
     "output_type": "execute_result"
    }
   ],
   "source": [
    "str(t1)"
   ]
  },
  {
   "cell_type": "code",
   "execution_count": 20,
   "id": "5be06ab5",
   "metadata": {},
   "outputs": [],
   "source": [
    "t1=tuple(str(t1))"
   ]
  },
  {
   "cell_type": "code",
   "execution_count": 21,
   "id": "b972b882",
   "metadata": {},
   "outputs": [
    {
     "data": {
      "text/plain": [
       "('(', '1', ',', ' ', '2', ',', ' ', '3', ',', ' ', '4', ')')"
      ]
     },
     "execution_count": 21,
     "metadata": {},
     "output_type": "execute_result"
    }
   ],
   "source": [
    "t1"
   ]
  },
  {
   "cell_type": "code",
   "execution_count": 22,
   "id": "a65e2fe3",
   "metadata": {},
   "outputs": [],
   "source": [
    "#Q4\n",
    "t4=(1,2,3,4,5,6)"
   ]
  },
  {
   "cell_type": "code",
   "execution_count": 23,
   "id": "3c164c6d",
   "metadata": {},
   "outputs": [
    {
     "data": {
      "text/plain": [
       "(1, 2, 3, 4, 5, 6)"
      ]
     },
     "execution_count": 23,
     "metadata": {},
     "output_type": "execute_result"
    }
   ],
   "source": [
    "t4"
   ]
  },
  {
   "cell_type": "code",
   "execution_count": 24,
   "id": "7a67af6b",
   "metadata": {},
   "outputs": [
    {
     "data": {
      "text/plain": [
       "3"
      ]
     },
     "execution_count": 24,
     "metadata": {},
     "output_type": "execute_result"
    }
   ],
   "source": [
    "t4[2]"
   ]
  },
  {
   "cell_type": "code",
   "execution_count": 25,
   "id": "1b7b99af",
   "metadata": {},
   "outputs": [],
   "source": [
    "#Q5\n",
    "t5=(1,5,8,5,6,5,4,2,3)"
   ]
  },
  {
   "cell_type": "code",
   "execution_count": 28,
   "id": "08032eff",
   "metadata": {},
   "outputs": [
    {
     "data": {
      "text/plain": [
       "(1, 5, 8, 5, 6, 5, 4, 2, 3)"
      ]
     },
     "execution_count": 28,
     "metadata": {},
     "output_type": "execute_result"
    }
   ],
   "source": [
    "t5"
   ]
  },
  {
   "cell_type": "code",
   "execution_count": 30,
   "id": "5638e931",
   "metadata": {},
   "outputs": [],
   "source": [
    "count=t5.count(5)"
   ]
  },
  {
   "cell_type": "code",
   "execution_count": 31,
   "id": "509fd082",
   "metadata": {},
   "outputs": [
    {
     "data": {
      "text/plain": [
       "3"
      ]
     },
     "execution_count": 31,
     "metadata": {},
     "output_type": "execute_result"
    }
   ],
   "source": [
    "count"
   ]
  },
  {
   "cell_type": "code",
   "execution_count": 37,
   "id": "e3ecfcbe",
   "metadata": {},
   "outputs": [
    {
     "name": "stdout",
     "output_type": "stream",
     "text": [
      "Repeated items and their counts:\n",
      "2: 2\n",
      "4: 3\n",
      "6: 2\n"
     ]
    }
   ],
   "source": [
    "def find_repeated_items(tup):\n",
    "    repeated_items = {}\n",
    "    for item in tup:\n",
    "        if tup.count(item) > 1:\n",
    "            repeated_items[item] = tup.count(item)\n",
    "    return repeated_items\n",
    "\n",
    "# Example tuple\n",
    "my_tuple = (1, 2, 2, 3, 4, 4, 4, 5, 6, 6)\n",
    "\n",
    "repeated = find_repeated_items(my_tuple)\n",
    "if repeated:\n",
    "    print(\"Repeated items and their counts:\")\n",
    "    for item, count in repeated.items():\n",
    "        print(f\"{item}: {count}\")\n",
    "else:\n",
    "    print(\"No repeated items found in the tuple.\")\n"
   ]
  },
  {
   "cell_type": "code",
   "execution_count": null,
   "id": "19863587",
   "metadata": {},
   "outputs": [],
   "source": []
  }
 ],
 "metadata": {
  "kernelspec": {
   "display_name": "Python 3 (ipykernel)",
   "language": "python",
   "name": "python3"
  },
  "language_info": {
   "codemirror_mode": {
    "name": "ipython",
    "version": 3
   },
   "file_extension": ".py",
   "mimetype": "text/x-python",
   "name": "python",
   "nbconvert_exporter": "python",
   "pygments_lexer": "ipython3",
   "version": "3.11.4"
  }
 },
 "nbformat": 4,
 "nbformat_minor": 5
}
