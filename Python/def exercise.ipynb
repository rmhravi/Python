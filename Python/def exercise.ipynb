{
 "cells": [
  {
   "cell_type": "code",
   "execution_count": 6,
   "id": "6771615b",
   "metadata": {},
   "outputs": [
    {
     "ename": "NameError",
     "evalue": "name 'numbers' is not defined",
     "output_type": "error",
     "traceback": [
      "\u001b[1;31m---------------------------------------------------------------------------\u001b[0m",
      "\u001b[1;31mNameError\u001b[0m                                 Traceback (most recent call last)",
      "Cell \u001b[1;32mIn[6], line 5\u001b[0m\n\u001b[0;32m      3\u001b[0m     numbers\u001b[38;5;241m=\u001b[39m\u001b[38;5;28mlist\u001b[39m(\u001b[38;5;28meval\u001b[39m(\u001b[38;5;28minput\u001b[39m(\u001b[38;5;124m\"\u001b[39m\u001b[38;5;124menter a list: \u001b[39m\u001b[38;5;124m\"\u001b[39m)))\n\u001b[0;32m      4\u001b[0m     \u001b[38;5;28msum\u001b[39m(numbers)\n\u001b[1;32m----> 5\u001b[0m sum_list(numbers)\n\u001b[0;32m      6\u001b[0m \u001b[38;5;28mprint\u001b[39m(sum_list)\n",
      "\u001b[1;31mNameError\u001b[0m: name 'numbers' is not defined"
     ]
    }
   ],
   "source": [
    "#1\n",
    "def sum_list(numbers):\n",
    "    numbers=list(eval(input(\"enter a list: \")))\n",
    "    numbers=sum[0=]\n",
    "sum_list(numbers)\n",
    "print(sum_list)"
   ]
  },
  {
   "cell_type": "code",
   "execution_count": 9,
   "id": "b7e28e30",
   "metadata": {},
   "outputs": [
    {
     "name": "stdout",
     "output_type": "stream",
     "text": [
      "enter a list:8,2,3,0,7\n",
      "20\n"
     ]
    }
   ],
   "source": [
    "def sum_list(numbers):\n",
    "    return sum(numbers)\n",
    "numbers= list(eval(input('enter a list:')))\n",
    "print(sum_list(numbers))\n",
    "def sum_list(numbers):\n",
    "    return sum(num for num in numbers if isinstance(num, (int, float)))"
   ]
  },
  {
   "cell_type": "code",
   "execution_count": 12,
   "id": "a57304d3",
   "metadata": {},
   "outputs": [
    {
     "name": "stdout",
     "output_type": "stream",
     "text": [
      "20\n"
     ]
    }
   ],
   "source": [
    "#1\n",
    "l2=[8,2,3,0,7]\n",
    "def sum_list(l1):\n",
    "    sum=0\n",
    "    for i in l2:\n",
    "        sum+=i\n",
    "    print(sum)\n",
    "sum_list(l2)"
   ]
  },
  {
   "cell_type": "code",
   "execution_count": 16,
   "id": "97f88096",
   "metadata": {},
   "outputs": [
    {
     "name": "stdout",
     "output_type": "stream",
     "text": [
      "enter a list:8,2,3,-1,7\n",
      "-336\n"
     ]
    }
   ],
   "source": [
    "#2\n",
    "l3=list(eval(input(\"enter a list:\")))\n",
    "def  product_list(l3):\n",
    "    product=1\n",
    "    for i in l3:\n",
    "        product*=i\n",
    "    print(product)\n",
    "product_list(l3)"
   ]
  },
  {
   "cell_type": "code",
   "execution_count": 19,
   "id": "5c98e3a7",
   "metadata": {},
   "outputs": [
    {
     "name": "stdout",
     "output_type": "stream",
     "text": [
      "enter a no:7\n",
      "5040\n"
     ]
    }
   ],
   "source": [
    "#3\n",
    "def fact():\n",
    "    fact=1\n",
    "    n=int(input(\"enter a no:\"))\n",
    "    for i in range(1,n+1):\n",
    "        fact*=i\n",
    "    print(fact)\n",
    "fact()"
   ]
  },
  {
   "cell_type": "code",
   "execution_count": 17,
   "id": "eaf40b88",
   "metadata": {},
   "outputs": [
    {
     "name": "stdout",
     "output_type": "stream",
     "text": [
      "number falls within a given range\n"
     ]
    }
   ],
   "source": [
    "#4\n",
    "def falls(n):\n",
    "    if n in range(2,9):\n",
    "        print(\"number falls within a given range\")\n",
    "    else:\n",
    "        print(\"number does not fall within a given range\")\n",
    "falls(5)"
   ]
  },
  {
   "cell_type": "code",
   "execution_count": 1,
   "id": "c3d2a88a",
   "metadata": {},
   "outputs": [
    {
     "name": "stdout",
     "output_type": "stream",
     "text": [
      "enter a text: The quick Brow Fox\n",
      "Upper case letters: 3\n",
      "Lower case letters: 12\n"
     ]
    }
   ],
   "source": [
    "#5\n",
    "def count_letters(text):\n",
    "    upper_case = sum(1 for char in text if char.isupper())\n",
    "    lower_case = sum(1 for char in text if char.islower())\n",
    "    return upper_case, lower_case\n",
    "text = input(\"enter a text: \")\n",
    "upper_case, lower_case = count_letters(text)\n",
    "print(\"Upper case letters:\", upper_case)\n",
    "print(\"Lower case letters:\", lower_case)"
   ]
  },
  {
   "cell_type": "code",
   "execution_count": 5,
   "id": "248fe51b",
   "metadata": {},
   "outputs": [
    {
     "name": "stdout",
     "output_type": "stream",
     "text": [
      "[1, 2, 3, 4, 5]\n"
     ]
    }
   ],
   "source": [
    "#6\n",
    "def unique_list(l):\n",
    "    x = []\n",
    "    for a in l:\n",
    "        if a not in x:\n",
    "            x.append(a)\n",
    "    return x\n",
    "print(unique_list([1, 2, 3, 3, 3, 3, 4, 5]))  "
   ]
  },
  {
   "cell_type": "code",
   "execution_count": 8,
   "id": "2306b85f",
   "metadata": {},
   "outputs": [
    {
     "name": "stdout",
     "output_type": "stream",
     "text": [
      "enter a number:29\n",
      "Is the number prime? True\n"
     ]
    }
   ],
   "source": [
    "#7\n",
    "def is_prime(num):\n",
    "    if num <= 1:\n",
    "        return False\n",
    "    for i in range(2, int(num**0.5) + 1):\n",
    "        if num % i == 0:\n",
    "            return False\n",
    "    return True\n",
    "number = int(input(\"enter a number:\"))\n",
    "result = is_prime(number)\n",
    "print(\"Is the number prime?\", result)"
   ]
  },
  {
   "cell_type": "code",
   "execution_count": 13,
   "id": "64c0deb5",
   "metadata": {},
   "outputs": [
    {
     "name": "stdout",
     "output_type": "stream",
     "text": [
      "Is the number perfect? 2\n",
      "False\n"
     ]
    }
   ],
   "source": [
    "#8\n",
    "def is_perfect(num):\n",
    "    if num <= 0:\n",
    "        return False\n",
    "    else:\n",
    "        sum = 0\n",
    "        for i in range(1, int(num**0.5) + 1):\n",
    "            if num % i == 0:\n",
    "                if num/i == i:\n",
    "                    sum += i\n",
    "                else:\n",
    "                    sum += i\n",
    "                    sum += num/i\n",
    "        return sum == num\n",
    "number = int(input(\"Is the number perfect? \"))\n",
    "result = is_perfect(number)\n",
    "print(result)"
   ]
  },
  {
   "cell_type": "code",
   "execution_count": 16,
   "id": "e1c33f31",
   "metadata": {},
   "outputs": [
    {
     "name": "stdout",
     "output_type": "stream",
     "text": [
      "Is the word a palindrome? malayalam\n",
      "True\n"
     ]
    }
   ],
   "source": [
    "#9\n",
    "def is_palindrome(s):\n",
    "    s = s.lower()\n",
    "    return s == s[::-1]\n",
    "word = input(\"Is the word a palindrome? \")\n",
    "result = is_palindrome(word)\n",
    "print(result)"
   ]
  },
  {
   "cell_type": "code",
   "execution_count": 17,
   "id": "9cac48ea",
   "metadata": {},
   "outputs": [
    {
     "name": "stdout",
     "output_type": "stream",
     "text": [
      "Is the sentence a pangram? True\n"
     ]
    }
   ],
   "source": [
    "#10\n",
    "def is_pangram(s):\n",
    "    alphabet = \"abcdefghijklmnopqrstuvwxyz\"\n",
    "    for char in alphabet:\n",
    "        if char not in s.lower():\n",
    "            return False\n",
    "    return True\n",
    "sentence = \"The quick brown fox jumps over the lazy dog.\"\n",
    "result = is_pangram(sentence)\n",
    "print(\"Is the sentence a pangram?\", result)"
   ]
  },
  {
   "cell_type": "code",
   "execution_count": 18,
   "id": "7ce19856",
   "metadata": {},
   "outputs": [
    {
     "name": "stdout",
     "output_type": "stream",
     "text": [
      "Enter a hyphen-separated sequence of words: green-red-yellow-black-white\n",
      "Sorted words: black-green-red-white-yellow\n"
     ]
    }
   ],
   "source": [
    "#11\n",
    "def sort_words(words):\n",
    "    sorted_words = sorted(words.split('-'))\n",
    "    return '-'.join(sorted_words)\n",
    "\n",
    "user_input = input(\"Enter a hyphen-separated sequence of words: \")\n",
    "sorted_words = sort_words(user_input)\n",
    "print(\"Sorted words:\", sorted_words)"
   ]
  },
  {
   "cell_type": "code",
   "execution_count": null,
   "id": "0f0b96f8",
   "metadata": {},
   "outputs": [],
   "source": []
  }
 ],
 "metadata": {
  "kernelspec": {
   "display_name": "Python 3 (ipykernel)",
   "language": "python",
   "name": "python3"
  },
  "language_info": {
   "codemirror_mode": {
    "name": "ipython",
    "version": 3
   },
   "file_extension": ".py",
   "mimetype": "text/x-python",
   "name": "python",
   "nbconvert_exporter": "python",
   "pygments_lexer": "ipython3",
   "version": "3.11.4"
  }
 },
 "nbformat": 4,
 "nbformat_minor": 5
}
