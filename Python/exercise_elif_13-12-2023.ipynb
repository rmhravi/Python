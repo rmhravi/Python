{
 "cells": [
  {
   "cell_type": "code",
   "execution_count": 10,
   "id": "75c02b0e",
   "metadata": {},
   "outputs": [
    {
     "name": "stdout",
     "output_type": "stream",
     "text": [
      "C\n"
     ]
    }
   ],
   "source": [
    "#Q1\n",
    "mark=72\n",
    "if mark>90:\n",
    "    print(\"A\")\n",
    "elif mark>80 and mark<=90:\n",
    "    print(\"B\")\n",
    "elif mark>=60 and mark<=80:\n",
    "    print(\"C\")\n",
    "elif mark<60:\n",
    "    print(\"D\")\n",
    "else :\n",
    "    print(\"Failed\")"
   ]
  },
  {
   "cell_type": "code",
   "execution_count": 5,
   "id": "e57171cd",
   "metadata": {},
   "outputs": [
    {
     "name": "stdout",
     "output_type": "stream",
     "text": [
      "10%\n"
     ]
    }
   ],
   "source": [
    "#Q2\n",
    "cost_price=72000\n",
    "if cost_price>100000:\n",
    "    print(\"15%\")\n",
    "elif cost_price>50000 and cost_price<=100000:\n",
    "    print(\"10%\")\n",
    "elif cost_price<=50000:\n",
    "    print(\"5%\")\n",
    "else :\n",
    "    print(\"no tax\")"
   ]
  },
  {
   "cell_type": "code",
   "execution_count": 8,
   "id": "05066c68",
   "metadata": {},
   "outputs": [
    {
     "name": "stdout",
     "output_type": "stream",
     "text": [
      "not leap year\n"
     ]
    }
   ],
   "source": [
    "#Q3\n",
    "year=2027\n",
    "if year%4==0:\n",
    "    print(\"leap year\")\n",
    "else:\n",
    "    print(\"not leap year\")"
   ]
  },
  {
   "cell_type": "code",
   "execution_count": 16,
   "id": "84c992da",
   "metadata": {},
   "outputs": [
    {
     "name": "stdout",
     "output_type": "stream",
     "text": [
      "Friday\n"
     ]
    }
   ],
   "source": [
    "#Q4\n",
    "Day=6\n",
    "if Day==1:\n",
    "    print(\"Sunday\")\n",
    "elif Day==2:\n",
    "    print(\"Monday\")\n",
    "elif Day==3:\n",
    "    print(\"Tuesday\")\n",
    "elif Day==4:\n",
    "    print(\"Wednesday\")\n",
    "elif Day==5:\n",
    "    print(\"Thursday\")\n",
    "elif Day==6:\n",
    "    print(\"Friday\")\n",
    "elif Day==7:\n",
    "    print(\"Saturday\")\n",
    "else:\n",
    "    print(\"Unidentified\")"
   ]
  },
  {
   "cell_type": "code",
   "execution_count": 28,
   "id": "440842a1",
   "metadata": {},
   "outputs": [
    {
     "name": "stdout",
     "output_type": "stream",
     "text": [
      "October\n"
     ]
    }
   ],
   "source": [
    "#Q5\n",
    "month=10\n",
    "days=31\n",
    "if month==1 and days==31:\n",
    "    print(\"January\")\n",
    "elif month==2 and days==28:\n",
    "    print(\"February\")\n",
    "elif month==3 and days==31:\n",
    "    print(\"March\")\n",
    "elif month==4 and days==30:\n",
    "    print(\"April\")\n",
    "elif month==5 and days==31:\n",
    "    print(\"May\")\n",
    "elif month==6 and days==30:\n",
    "    print(\"June\")\n",
    "elif month==7 and days==30:\n",
    "    print(\"July\")\n",
    "elif month==8 and days==31:\n",
    "    print(\"August\")\n",
    "elif month==9 and days==30:\n",
    "    print(\"September\")\n",
    "elif month==10 and days==31:\n",
    "    print(\"October\")\n",
    "elif month==11 and days==30:\n",
    "    print(\"November\")\n",
    "elif month==12 and days==31:\n",
    "    print(\"December\")\n",
    "else:\n",
    "    print(\"error 404\")"
   ]
  },
  {
   "cell_type": "code",
   "execution_count": 39,
   "id": "f0734752",
   "metadata": {},
   "outputs": [
    {
     "name": "stdout",
     "output_type": "stream",
     "text": [
      "Red Fort\n"
     ]
    }
   ],
   "source": [
    "city=\"Delhi\"\n",
    "if city==\"Delhi\":\n",
    "    print(\"Red Fort\")\n",
    "elif city==\"Agra\":\n",
    "    print(\"Taj Mahal\")\n",
    "else:\n",
    "    print(\"Jal Mahal\")"
   ]
  },
  {
   "cell_type": "code",
   "execution_count": 40,
   "id": "71a641c9",
   "metadata": {},
   "outputs": [
    {
     "name": "stdout",
     "output_type": "stream",
     "text": [
      "oldest one\n"
     ]
    },
    {
     "data": {
      "text/plain": [
       "'elif person2==max(person2):\\n    print(\"oldest one\")\\nelif person3==max(person3):\\n    print(\"oldest one\")\\nelif person4==max(person4):\\n    print(\"oldest one\")'"
      ]
     },
     "execution_count": 40,
     "metadata": {},
     "output_type": "execute_result"
    }
   ],
   "source": [
    "person1=23\n",
    "person2=35\n",
    "person3=15\n",
    "person4=18\n",
    "if max(person1, person2, person3, person4):\n",
    "    print(\"oldest one\")\n",
    "else:\n",
    "    print()\n",
    "'''elif person2==max(person2):\n",
    "    print(\"oldest one\")\n",
    "elif person3==max(person3):\n",
    "    print(\"oldest one\")\n",
    "elif person4==max(person4):\n",
    "    print(\"oldest one\")'''"
   ]
  },
  {
   "cell_type": "code",
   "execution_count": null,
   "id": "9f6cbb6c",
   "metadata": {},
   "outputs": [],
   "source": []
  }
 ],
 "metadata": {
  "kernelspec": {
   "display_name": "Python 3 (ipykernel)",
   "language": "python",
   "name": "python3"
  },
  "language_info": {
   "codemirror_mode": {
    "name": "ipython",
    "version": 3
   },
   "file_extension": ".py",
   "mimetype": "text/x-python",
   "name": "python",
   "nbconvert_exporter": "python",
   "pygments_lexer": "ipython3",
   "version": "3.11.4"
  }
 },
 "nbformat": 4,
 "nbformat_minor": 5
}
