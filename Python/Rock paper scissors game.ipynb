{
 "cells": [
  {
   "cell_type": "code",
   "execution_count": 1,
   "id": "c6dc5c22",
   "metadata": {},
   "outputs": [
    {
     "ename": "SyntaxError",
     "evalue": "'break' outside loop (1935259758.py, line 23)",
     "output_type": "error",
     "traceback": [
      "\u001b[1;36m  Cell \u001b[1;32mIn[1], line 23\u001b[1;36m\u001b[0m\n\u001b[1;33m    break\u001b[0m\n\u001b[1;37m    ^\u001b[0m\n\u001b[1;31mSyntaxError\u001b[0m\u001b[1;31m:\u001b[0m 'break' outside loop\n"
     ]
    }
   ],
   "source": [
    "game_rules = {\n",
    "    'R': 'S',\n",
    "    'P': 'R',\n",
    "    'S': 'P'\n",
    "}\n",
    "\n",
    "def game_play():\n",
    "    player1 = input(\"Player1, Please select - rock(R), paper(P), or scissors(S): \")\n",
    "    player2 = input(\"Player2, Please select - rock(R), paper(P), or scissors(S): \")\n",
    "    \n",
    "    if player1 == player2:\n",
    "        print(\"It,s a tie\")\n",
    "    elif game_rules[player1] == player2:\n",
    "        print(\"Player 1 wins\")\n",
    "    else:\n",
    "        print(\"Player 2 wins\")\n",
    "def play_again():\n",
    "    answer = input(\"Play again? (yes or no):\")\n",
    "    if answer == \"yes\":\n",
    "        game_play\n",
    "    else:\n",
    "        if not play_again():\n",
    "            break\n",
    "    #'''return input(\"Play again? (yes or no): \").lower() == 'yes'\n",
    "#\n",
    "#while True:\n",
    "   # game_play()\n",
    "   # if not play_again():\n",
    "   #     break'''"
   ]
  },
  {
   "cell_type": "code",
   "execution_count": null,
   "id": "1c92d9c2",
   "metadata": {},
   "outputs": [],
   "source": [
    "s1={\n",
    "    'Name', 'Salih',\n",
    "    'Place','Kozhikodu'\n",
    "}"
   ]
  },
  {
   "cell_type": "code",
   "execution_count": null,
   "id": "fb2f2957",
   "metadata": {},
   "outputs": [],
   "source": [
    "s1"
   ]
  },
  {
   "cell_type": "code",
   "execution_count": null,
   "id": "6dda8f5d",
   "metadata": {},
   "outputs": [],
   "source": [
    "\n",
    "\n",
    "\n",
    "\n",
    "\n",
    "# Define the rules\n",
    "rules = {\n",
    "    'rock': 'scissors',\n",
    "    'paper': 'rock',\n",
    "    'scissors': 'paper'\n",
    "}\n",
    "\n",
    "# Function to play the game\n",
    "def play_game():\n",
    "    player1 = input(\"Player 1, enter your play (rock, paper, or scissors): \")\n",
    "    player2 = input(\"Player 2, enter your play (rock, paper, or scissors): \")\n",
    "\n",
    "    if player1 == player2:\n",
    "        print(\"It's a tie!\")\n",
    "    elif rules[player1] == player2:\n",
    "        print(f\"Player 1 wins with {player1}!\")\n",
    "    else:\n",
    "        print(f\"Player 2 wins with {player2}!\")\n",
    "\n",
    "# Ask the players if they want to play again\n",
    "def play_again():\n",
    "    return input(\"Do you want to play again? (yes or no): \").lower() == 'yes'\n",
    "\n",
    "# Main game loop\n",
    "while True:\n",
    "    play_game()\n",
    "    if not play_again():\n",
    "        break"
   ]
  }
 ],
 "metadata": {
  "kernelspec": {
   "display_name": "Python 3 (ipykernel)",
   "language": "python",
   "name": "python3"
  },
  "language_info": {
   "codemirror_mode": {
    "name": "ipython",
    "version": 3
   },
   "file_extension": ".py",
   "mimetype": "text/x-python",
   "name": "python",
   "nbconvert_exporter": "python",
   "pygments_lexer": "ipython3",
   "version": "3.11.4"
  }
 },
 "nbformat": 4,
 "nbformat_minor": 5
}
