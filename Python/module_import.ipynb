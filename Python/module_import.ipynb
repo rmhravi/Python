{
 "cells": [
  {
   "cell_type": "code",
   "execution_count": 1,
   "id": "7c9157c5",
   "metadata": {},
   "outputs": [
    {
     "name": "stdout",
     "output_type": "stream",
     "text": [
      "10\n"
     ]
    }
   ],
   "source": [
    "import module_sample_file_2 as m"
   ]
  },
  {
   "cell_type": "code",
   "execution_count": 2,
   "id": "72900dd2",
   "metadata": {},
   "outputs": [],
   "source": [
    "m.__doc__"
   ]
  },
  {
   "cell_type": "code",
   "execution_count": 3,
   "id": "262a3a96",
   "metadata": {},
   "outputs": [
    {
     "name": "stdout",
     "output_type": "stream",
     "text": [
      "18\n"
     ]
    }
   ],
   "source": [
    "m.sum_list([3,4,5,6])"
   ]
  },
  {
   "cell_type": "code",
   "execution_count": 4,
   "id": "4dab51e1",
   "metadata": {},
   "outputs": [
    {
     "name": "stdout",
     "output_type": "stream",
     "text": [
      "helloooo\n"
     ]
    }
   ],
   "source": [
    "m.printing()"
   ]
  },
  {
   "cell_type": "code",
   "execution_count": 5,
   "id": "b74fcc7b",
   "metadata": {},
   "outputs": [],
   "source": [
    "m.__doc__"
   ]
  },
  {
   "cell_type": "code",
   "execution_count": 9,
   "id": "49be5afc",
   "metadata": {},
   "outputs": [],
   "source": [
    "l = [1,2,3,4,5]"
   ]
  },
  {
   "cell_type": "code",
   "execution_count": 10,
   "id": "8e36269a",
   "metadata": {},
   "outputs": [
    {
     "name": "stdout",
     "output_type": "stream",
     "text": [
      "15\n"
     ]
    }
   ],
   "source": [
    "m.sum_list(l)"
   ]
  },
  {
   "cell_type": "code",
   "execution_count": 11,
   "id": "51e67131",
   "metadata": {},
   "outputs": [
    {
     "name": "stdout",
     "output_type": "stream",
     "text": [
      "Help on module module_sample_file_2:\n",
      "\n",
      "NAME\n",
      "    module_sample_file_2 - # coding: utf-8\n",
      "\n",
      "FUNCTIONS\n",
      "    printing()\n",
      "    \n",
      "    sum_list(l)\n",
      "\n",
      "DATA\n",
      "    msg = 'module_programming'\n",
      "\n",
      "FILE\n",
      "    c:\\users\\user\\ramesh\\python\\module_sample_file_2.py\n",
      "\n",
      "\n"
     ]
    }
   ],
   "source": [
    "help(m)"
   ]
  },
  {
   "cell_type": "code",
   "execution_count": 12,
   "id": "30b763a4",
   "metadata": {},
   "outputs": [
    {
     "data": {
      "text/plain": [
       "'module_programming'"
      ]
     },
     "execution_count": 12,
     "metadata": {},
     "output_type": "execute_result"
    }
   ],
   "source": [
    "m.msg"
   ]
  },
  {
   "cell_type": "code",
   "execution_count": null,
   "id": "662e95f2",
   "metadata": {},
   "outputs": [],
   "source": []
  }
 ],
 "metadata": {
  "kernelspec": {
   "display_name": "Python 3 (ipykernel)",
   "language": "python",
   "name": "python3"
  },
  "language_info": {
   "codemirror_mode": {
    "name": "ipython",
    "version": 3
   },
   "file_extension": ".py",
   "mimetype": "text/x-python",
   "name": "python",
   "nbconvert_exporter": "python",
   "pygments_lexer": "ipython3",
   "version": "3.11.4"
  }
 },
 "nbformat": 4,
 "nbformat_minor": 5
}
