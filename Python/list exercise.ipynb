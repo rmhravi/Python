{
 "cells": [
  {
   "cell_type": "code",
   "execution_count": 1,
   "id": "edfab543",
   "metadata": {},
   "outputs": [
    {
     "name": "stdout",
     "output_type": "stream",
     "text": [
      "ajrpan\n"
     ]
    }
   ],
   "source": [
    "s1='america'\n",
    "s2='japan'\n",
    "length=len(s1)\n",
    "length=len(s2)\n",
    "mid=length//2\n",
    "print(s1[0]+s2[0]+s1[3]+s2[mid]+s1[-1]+s2[-1])"
   ]
  },
  {
   "cell_type": "code",
   "execution_count": 18,
   "id": "c109429f",
   "metadata": {},
   "outputs": [
    {
     "data": {
      "text/plain": [
       "['apple', 'orange', 'grape']"
      ]
     },
     "execution_count": 18,
     "metadata": {},
     "output_type": "execute_result"
    }
   ],
   "source": [
    "list1=['apple','orange','grape']\n",
    "list1"
   ]
  },
  {
   "cell_type": "code",
   "execution_count": 22,
   "id": "5e0e6ca8",
   "metadata": {},
   "outputs": [
    {
     "data": {
      "text/plain": [
       "'orange'"
      ]
     },
     "execution_count": 22,
     "metadata": {},
     "output_type": "execute_result"
    }
   ],
   "source": [
    "list1[1]"
   ]
  },
  {
   "cell_type": "code",
   "execution_count": 28,
   "id": "98427c5f",
   "metadata": {},
   "outputs": [],
   "source": [
    "list1[0]='orange'"
   ]
  },
  {
   "cell_type": "code",
   "execution_count": 29,
   "id": "955212c4",
   "metadata": {},
   "outputs": [
    {
     "data": {
      "text/plain": [
       "['orange', 'orange', 'grape']"
      ]
     },
     "execution_count": 29,
     "metadata": {},
     "output_type": "execute_result"
    }
   ],
   "source": [
    "list1"
   ]
  },
  {
   "cell_type": "code",
   "execution_count": 30,
   "id": "915c9949",
   "metadata": {},
   "outputs": [
    {
     "data": {
      "text/plain": [
       "['orange', 'orange', 'grape']"
      ]
     },
     "execution_count": 30,
     "metadata": {},
     "output_type": "execute_result"
    }
   ],
   "source": [
    "list1"
   ]
  },
  {
   "cell_type": "code",
   "execution_count": 31,
   "id": "0b7291dc",
   "metadata": {},
   "outputs": [],
   "source": [
    "list1.append('watermelon')"
   ]
  },
  {
   "cell_type": "code",
   "execution_count": 32,
   "id": "cd0ea95c",
   "metadata": {},
   "outputs": [
    {
     "data": {
      "text/plain": [
       "['orange', 'orange', 'grape', 'watermelon']"
      ]
     },
     "execution_count": 32,
     "metadata": {},
     "output_type": "execute_result"
    }
   ],
   "source": [
    "list1"
   ]
  },
  {
   "cell_type": "code",
   "execution_count": 33,
   "id": "6fbd0025",
   "metadata": {},
   "outputs": [],
   "source": [
    "list1.remove('orange')"
   ]
  },
  {
   "cell_type": "code",
   "execution_count": 34,
   "id": "d33a4620",
   "metadata": {},
   "outputs": [
    {
     "data": {
      "text/plain": [
       "['orange', 'grape', 'watermelon']"
      ]
     },
     "execution_count": 34,
     "metadata": {},
     "output_type": "execute_result"
    }
   ],
   "source": [
    "list1"
   ]
  },
  {
   "cell_type": "code",
   "execution_count": 38,
   "id": "f1f33212",
   "metadata": {},
   "outputs": [
    {
     "data": {
      "text/plain": [
       "['watermelon']"
      ]
     },
     "execution_count": 38,
     "metadata": {},
     "output_type": "execute_result"
    }
   ],
   "source": [
    "#6. Print the last item from the list.\n",
    "list1[-1::]"
   ]
  },
  {
   "cell_type": "code",
   "execution_count": 40,
   "id": "c1822d10",
   "metadata": {},
   "outputs": [
    {
     "data": {
      "text/plain": [
       "['orange', 'grape']"
      ]
     },
     "execution_count": 40,
     "metadata": {},
     "output_type": "execute_result"
    }
   ],
   "source": [
    "#7.Print 1st and 2nd item from the list.\n",
    "list1[0:2]"
   ]
  },
  {
   "cell_type": "code",
   "execution_count": 41,
   "id": "db31397a",
   "metadata": {},
   "outputs": [
    {
     "data": {
      "text/plain": [
       "['orange', 'grape', 'watermelon']"
      ]
     },
     "execution_count": 41,
     "metadata": {},
     "output_type": "execute_result"
    }
   ],
   "source": [
    "list1"
   ]
  },
  {
   "cell_type": "code",
   "execution_count": null,
   "id": "dba7ce70",
   "metadata": {},
   "outputs": [],
   "source": [
    "#  8. Print no: of items from the list."
   ]
  }
 ],
 "metadata": {
  "kernelspec": {
   "display_name": "Python 3 (ipykernel)",
   "language": "python",
   "name": "python3"
  },
  "language_info": {
   "codemirror_mode": {
    "name": "ipython",
    "version": 3
   },
   "file_extension": ".py",
   "mimetype": "text/x-python",
   "name": "python",
   "nbconvert_exporter": "python",
   "pygments_lexer": "ipython3",
   "version": "3.11.4"
  }
 },
 "nbformat": 4,
 "nbformat_minor": 5
}
