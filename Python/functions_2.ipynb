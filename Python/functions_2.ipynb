{
 "cells": [
  {
   "cell_type": "markdown",
   "id": "b61ea171",
   "metadata": {},
   "source": [
    "# *args\n",
    "If you do not know how many arguments that will be passed into your function, \n",
    "add a * before the parameter name in the function definition."
   ]
  },
  {
   "cell_type": "code",
   "execution_count": 8,
   "id": "4128f282",
   "metadata": {},
   "outputs": [
    {
     "name": "stdout",
     "output_type": "stream",
     "text": [
      "the person is raju\n"
     ]
    }
   ],
   "source": [
    "\n",
    "def arbitary_arguments(*person):\n",
    "    print(\"the person is \"+person[2])\n",
    "arbitary_arguments('ram','ravi','raju','remya')"
   ]
  },
  {
   "cell_type": "markdown",
   "id": "02d2551c",
   "metadata": {},
   "source": [
    "keyword arguments:\n",
    "You can also send arguments with the key = value syntax.\n"
   ]
  },
  {
   "cell_type": "code",
   "execution_count": 7,
   "id": "11138b77",
   "metadata": {},
   "outputs": [
    {
     "name": "stdout",
     "output_type": "stream",
     "text": [
      "the person is raju\n"
     ]
    }
   ],
   "source": [
    "def keyword_arguments(person3,person2,person1):\n",
    "    print(\"the person is \"+person3)\n",
    "keyword_arguments(person1='ram',person2='ravi',person3='raju')"
   ]
  },
  {
   "cell_type": "markdown",
   "id": "e0e5a9a9",
   "metadata": {},
   "source": [
    "# **kwargs\n",
    "''If you do not know how many keyword arguments that will be \n",
    "passed into your function, add two asterisk: ** before the parameter name \n",
    "in the function definition"
   ]
  },
  {
   "cell_type": "code",
   "execution_count": 1,
   "id": "c12087aa",
   "metadata": {},
   "outputs": [
    {
     "name": "stdout",
     "output_type": "stream",
     "text": [
      "the person is raju\n"
     ]
    }
   ],
   "source": [
    "def multi_keyword_arguments(**person):\n",
    "    print(\"the person is \"+person[\"person3\"])\n",
    "    \n",
    "multi_keyword_arguments(person1='ram',person2='ravi',person3='raju')"
   ]
  },
  {
   "cell_type": "markdown",
   "id": "03e8ecbf",
   "metadata": {},
   "source": [
    "Default Parameter Value\n",
    "\n",
    "The following example shows how to use a default parameter value.\n",
    "If we call the function without argument, it uses the default value:"
   ]
  },
  {
   "cell_type": "code",
   "execution_count": 17,
   "id": "e1c12619",
   "metadata": {},
   "outputs": [
    {
     "name": "stdout",
     "output_type": "stream",
     "text": [
      "I am from Sweden\n",
      "I am from India\n",
      "I am from Norway\n",
      "I am from Brazil\n"
     ]
    }
   ],
   "source": [
    "def my_function(country = \"Norway\"):\n",
    "    print(\"I am from \" + country)\n",
    "\n",
    "my_function(\"Sweden\")\n",
    "my_function(\"India\")\n",
    "my_function()\n",
    "my_function(\"Brazil\")"
   ]
  },
  {
   "cell_type": "code",
   "execution_count": null,
   "id": "92cfb9fd",
   "metadata": {},
   "outputs": [],
   "source": []
  }
 ],
 "metadata": {
  "kernelspec": {
   "display_name": "Python 3 (ipykernel)",
   "language": "python",
   "name": "python3"
  },
  "language_info": {
   "codemirror_mode": {
    "name": "ipython",
    "version": 3
   },
   "file_extension": ".py",
   "mimetype": "text/x-python",
   "name": "python",
   "nbconvert_exporter": "python",
   "pygments_lexer": "ipython3",
   "version": "3.11.4"
  }
 },
 "nbformat": 4,
 "nbformat_minor": 5
}
