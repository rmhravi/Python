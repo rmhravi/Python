{
 "cells": [
  {
   "cell_type": "code",
   "execution_count": 3,
   "id": "27fa5a85",
   "metadata": {},
   "outputs": [
    {
     "name": "stdout",
     "output_type": "stream",
     "text": [
      "enter the list elements:1,2,3,4,'a'\n"
     ]
    },
    {
     "data": {
      "text/plain": [
       "[1, 2, 3, 4, 'a']"
      ]
     },
     "execution_count": 3,
     "metadata": {},
     "output_type": "execute_result"
    }
   ],
   "source": [
    "l1=list(eval(input('enter the list elements:')))\n",
    "l1"
   ]
  },
  {
   "cell_type": "code",
   "execution_count": 4,
   "id": "419980db",
   "metadata": {},
   "outputs": [
    {
     "name": "stdout",
     "output_type": "stream",
     "text": [
      "enter the value:1\n",
      "enter the value:2\n",
      "enter the value:3\n",
      "enter the value:4\n",
      "enter the value:5\n"
     ]
    },
    {
     "data": {
      "text/plain": [
       "['1', '2', '3', '4', '5']"
      ]
     },
     "execution_count": 4,
     "metadata": {},
     "output_type": "execute_result"
    }
   ],
   "source": [
    "l1=[]\n",
    "for i in range(5):\n",
    "    a=input('enter the value:')\n",
    "    l1.append(a)\n",
    "l1"
   ]
  },
  {
   "cell_type": "code",
   "execution_count": 5,
   "id": "cd3b9d8a",
   "metadata": {},
   "outputs": [
    {
     "name": "stdout",
     "output_type": "stream",
     "text": [
      "13\n"
     ]
    }
   ],
   "source": [
    "#function\n",
    "a=6\n",
    "b=7\n",
    "print(a+b)"
   ]
  },
  {
   "cell_type": "code",
   "execution_count": 7,
   "id": "f422b69d",
   "metadata": {},
   "outputs": [
    {
     "name": "stdout",
     "output_type": "stream",
     "text": [
      "11\n"
     ]
    }
   ],
   "source": [
    "def sum_2():\n",
    "    a=5\n",
    "    b=6\n",
    "    print(a+b)\n",
    "sum_2()"
   ]
  },
  {
   "cell_type": "code",
   "execution_count": 8,
   "id": "fb426a3e",
   "metadata": {},
   "outputs": [
    {
     "name": "stdout",
     "output_type": "stream",
     "text": [
      "11\n",
      "17\n"
     ]
    }
   ],
   "source": [
    "def sum_2(a,b):\n",
    "    print(a+b)\n",
    "sum_2(5,6)\n",
    "sum_2(8,9)"
   ]
  },
  {
   "cell_type": "code",
   "execution_count": 10,
   "id": "dc3c01eb",
   "metadata": {},
   "outputs": [
    {
     "name": "stdout",
     "output_type": "stream",
     "text": [
      "11\n"
     ]
    }
   ],
   "source": [
    "def sum_2(a,b):\n",
    "    print(a+b)\n",
    "a=5\n",
    "b=6\n",
    "sum_2(a,b)"
   ]
  },
  {
   "cell_type": "code",
   "execution_count": 11,
   "id": "d2c0e50f",
   "metadata": {},
   "outputs": [
    {
     "name": "stdout",
     "output_type": "stream",
     "text": [
      "11\n"
     ]
    }
   ],
   "source": [
    "def sum_2(x,y):\n",
    "    print(x+y)\n",
    "a=5\n",
    "b=6\n",
    "sum_2(a,b)"
   ]
  },
  {
   "cell_type": "code",
   "execution_count": 12,
   "id": "3a909361",
   "metadata": {},
   "outputs": [
    {
     "name": "stdout",
     "output_type": "stream",
     "text": [
      "5\n"
     ]
    }
   ],
   "source": [
    "def sum_no(a,b):\n",
    "    c=a+b\n",
    "    return c\n",
    "d=sum_no(2,3)\n",
    "print(d)"
   ]
  },
  {
   "cell_type": "code",
   "execution_count": 13,
   "id": "b12913d4",
   "metadata": {},
   "outputs": [
    {
     "name": "stdout",
     "output_type": "stream",
     "text": [
      "4\n",
      "4\n"
     ]
    }
   ],
   "source": [
    "#global variable\n",
    "x=4\n",
    "def global_var():\n",
    "    print(x)\n",
    "global_var()\n",
    "print(x)"
   ]
  },
  {
   "cell_type": "code",
   "execution_count": 14,
   "id": "8677fb11",
   "metadata": {},
   "outputs": [
    {
     "name": "stdout",
     "output_type": "stream",
     "text": [
      "7\n",
      "7\n"
     ]
    }
   ],
   "source": [
    "#local variable\n",
    "def local_var():\n",
    "    global y\n",
    "    y=7\n",
    "    print(y)\n",
    "local_var()\n",
    "print(y)"
   ]
  },
  {
   "cell_type": "code",
   "execution_count": null,
   "id": "8ece9eb8",
   "metadata": {},
   "outputs": [],
   "source": [
    "\n",
    "    "
   ]
  }
 ],
 "metadata": {
  "kernelspec": {
   "display_name": "Python 3 (ipykernel)",
   "language": "python",
   "name": "python3"
  },
  "language_info": {
   "codemirror_mode": {
    "name": "ipython",
    "version": 3
   },
   "file_extension": ".py",
   "mimetype": "text/x-python",
   "name": "python",
   "nbconvert_exporter": "python",
   "pygments_lexer": "ipython3",
   "version": "3.11.4"
  }
 },
 "nbformat": 4,
 "nbformat_minor": 5
}
