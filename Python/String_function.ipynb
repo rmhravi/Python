{
 "cells": [
  {
   "cell_type": "code",
   "execution_count": 1,
   "id": "23bb3edf",
   "metadata": {},
   "outputs": [
    {
     "name": "stdout",
     "output_type": "stream",
     "text": [
      "hello\n"
     ]
    }
   ],
   "source": [
    "print(\"hello\")"
   ]
  },
  {
   "cell_type": "code",
   "execution_count": 4,
   "id": "e81035df",
   "metadata": {},
   "outputs": [
    {
     "name": "stdout",
     "output_type": "stream",
     "text": [
      "why so serious\n"
     ]
    },
    {
     "data": {
      "text/plain": [
       "\"I'm vengeance\""
      ]
     },
     "execution_count": 4,
     "metadata": {},
     "output_type": "execute_result"
    }
   ],
   "source": [
    "print(\"why so serious\")\n",
    "\"I'm vengeance\""
   ]
  },
  {
   "cell_type": "code",
   "execution_count": 5,
   "id": "c9b92e89",
   "metadata": {},
   "outputs": [
    {
     "name": "stdout",
     "output_type": "stream",
     "text": [
      "TheDarkKnightRises\n"
     ]
    }
   ],
   "source": [
    "movie=\"TheDarkKnightRises\"\n",
    "print(movie)"
   ]
  },
  {
   "cell_type": "code",
   "execution_count": 6,
   "id": "fe30a0bc",
   "metadata": {},
   "outputs": [
    {
     "name": "stdout",
     "output_type": "stream",
     "text": [
      "i\n"
     ]
    }
   ],
   "source": [
    "print(movie[9])"
   ]
  },
  {
   "cell_type": "code",
   "execution_count": 7,
   "id": "983f5927",
   "metadata": {},
   "outputs": [
    {
     "name": "stdout",
     "output_type": "stream",
     "text": [
      "18\n"
     ]
    }
   ],
   "source": [
    "#len() to find the length\n",
    "print(len(movie))"
   ]
  },
  {
   "cell_type": "code",
   "execution_count": 8,
   "id": "ba47b58c",
   "metadata": {},
   "outputs": [
    {
     "name": "stdout",
     "output_type": "stream",
     "text": [
      "D\n"
     ]
    }
   ],
   "source": [
    "#negative indexing\n",
    "print(movie[-15])"
   ]
  },
  {
   "cell_type": "code",
   "execution_count": 9,
   "id": "407714ec",
   "metadata": {},
   "outputs": [
    {
     "name": "stdout",
     "output_type": "stream",
     "text": [
      "TheDarkKnightRises\n"
     ]
    }
   ],
   "source": [
    "print(movie)"
   ]
  },
  {
   "cell_type": "code",
   "execution_count": 16,
   "id": "0b8163b4",
   "metadata": {},
   "outputs": [
    {
     "name": "stdout",
     "output_type": "stream",
     "text": [
      "The\n"
     ]
    }
   ],
   "source": [
    "print(movie[:3])"
   ]
  },
  {
   "cell_type": "code",
   "execution_count": 11,
   "id": "10ff217e",
   "metadata": {},
   "outputs": [
    {
     "name": "stdout",
     "output_type": "stream",
     "text": [
      "Dark\n"
     ]
    }
   ],
   "source": [
    "print(movie[3:7])"
   ]
  },
  {
   "cell_type": "code",
   "execution_count": 14,
   "id": "63d2f58b",
   "metadata": {},
   "outputs": [
    {
     "name": "stdout",
     "output_type": "stream",
     "text": [
      "Knight\n"
     ]
    }
   ],
   "source": [
    "print(movie[7:13])"
   ]
  },
  {
   "cell_type": "code",
   "execution_count": 15,
   "id": "7d739b44",
   "metadata": {},
   "outputs": [
    {
     "name": "stdout",
     "output_type": "stream",
     "text": [
      "Rises\n"
     ]
    }
   ],
   "source": [
    "print(movie[13:])"
   ]
  },
  {
   "cell_type": "code",
   "execution_count": 17,
   "id": "c8284bca",
   "metadata": {},
   "outputs": [
    {
     "name": "stdout",
     "output_type": "stream",
     "text": [
      "KnightRises\n"
     ]
    }
   ],
   "source": [
    "#negative slicing\n",
    "print(movie[-11:])"
   ]
  },
  {
   "cell_type": "code",
   "execution_count": 18,
   "id": "6808355e",
   "metadata": {},
   "outputs": [
    {
     "name": "stdout",
     "output_type": "stream",
     "text": [
      "THEDARKKNIGHTRISES\n"
     ]
    }
   ],
   "source": [
    "#upper(), lower()\n",
    "print(movie.upper())"
   ]
  },
  {
   "cell_type": "code",
   "execution_count": 19,
   "id": "29d2c7f3",
   "metadata": {},
   "outputs": [
    {
     "name": "stdout",
     "output_type": "stream",
     "text": [
      "thedarkknightrises\n"
     ]
    }
   ],
   "source": [
    "print(movie.lower())"
   ]
  },
  {
   "cell_type": "code",
   "execution_count": 20,
   "id": "06102014",
   "metadata": {},
   "outputs": [
    {
     "data": {
      "text/plain": [
       "'TheDarkKnightRises'"
      ]
     },
     "execution_count": 20,
     "metadata": {},
     "output_type": "execute_result"
    }
   ],
   "source": [
    "movie"
   ]
  },
  {
   "cell_type": "code",
   "execution_count": 21,
   "id": "068e4484",
   "metadata": {},
   "outputs": [],
   "source": [
    "movie=movie.upper()"
   ]
  },
  {
   "cell_type": "code",
   "execution_count": 22,
   "id": "d3008697",
   "metadata": {},
   "outputs": [
    {
     "data": {
      "text/plain": [
       "'THEDARKKNIGHTRISES'"
      ]
     },
     "execution_count": 22,
     "metadata": {},
     "output_type": "execute_result"
    }
   ],
   "source": [
    "movie"
   ]
  },
  {
   "cell_type": "code",
   "execution_count": 23,
   "id": "9a0c13b9",
   "metadata": {},
   "outputs": [],
   "source": [
    "movie=movie.lower()"
   ]
  },
  {
   "cell_type": "code",
   "execution_count": 24,
   "id": "82ccf8a6",
   "metadata": {},
   "outputs": [
    {
     "data": {
      "text/plain": [
       "'thedarkknightrises'"
      ]
     },
     "execution_count": 24,
     "metadata": {},
     "output_type": "execute_result"
    }
   ],
   "source": [
    "movie"
   ]
  },
  {
   "cell_type": "code",
   "execution_count": 25,
   "id": "784cc98a",
   "metadata": {},
   "outputs": [
    {
     "name": "stdout",
     "output_type": "stream",
     "text": [
      "Batman\n",
      " Joker\n"
     ]
    }
   ],
   "source": [
    "#strip()- for removing beginning space\n",
    "name1=\"Batman\"\n",
    "name2=\" Joker\"\n",
    "print(name1)\n",
    "print(name2)"
   ]
  },
  {
   "cell_type": "code",
   "execution_count": 26,
   "id": "907deb5f",
   "metadata": {},
   "outputs": [
    {
     "name": "stdout",
     "output_type": "stream",
     "text": [
      "Batman\n",
      "Joker\n"
     ]
    }
   ],
   "source": [
    "print(name1)\n",
    "print(name2.strip())"
   ]
  },
  {
   "cell_type": "code",
   "execution_count": 27,
   "id": "2bdeaec9",
   "metadata": {},
   "outputs": [],
   "source": [
    "#rstrip()- for removing end space"
   ]
  },
  {
   "cell_type": "code",
   "execution_count": 28,
   "id": "67c1a0f1",
   "metadata": {},
   "outputs": [
    {
     "data": {
      "text/plain": [
       "'Batman'"
      ]
     },
     "execution_count": 28,
     "metadata": {},
     "output_type": "execute_result"
    }
   ],
   "source": [
    "#replace()\n",
    "name1"
   ]
  },
  {
   "cell_type": "code",
   "execution_count": 33,
   "id": "0b023521",
   "metadata": {},
   "outputs": [
    {
     "name": "stdout",
     "output_type": "stream",
     "text": [
      "Batwomen\n"
     ]
    }
   ],
   "source": [
    "print(name1.replace('man', 'women'))"
   ]
  },
  {
   "cell_type": "code",
   "execution_count": 34,
   "id": "19a8103b",
   "metadata": {},
   "outputs": [
    {
     "data": {
      "text/plain": [
       "'Batman'"
      ]
     },
     "execution_count": 34,
     "metadata": {},
     "output_type": "execute_result"
    }
   ],
   "source": [
    "name1"
   ]
  },
  {
   "cell_type": "code",
   "execution_count": 35,
   "id": "59e5d34d",
   "metadata": {},
   "outputs": [],
   "source": [
    "name1=name1.replace('man', 'women')"
   ]
  },
  {
   "cell_type": "code",
   "execution_count": 39,
   "id": "fc9c6ce6",
   "metadata": {},
   "outputs": [
    {
     "data": {
      "text/plain": [
       "'Batwomen'"
      ]
     },
     "execution_count": 39,
     "metadata": {},
     "output_type": "execute_result"
    }
   ],
   "source": [
    "name1"
   ]
  },
  {
   "cell_type": "code",
   "execution_count": 40,
   "id": "08deb43c",
   "metadata": {},
   "outputs": [],
   "source": [
    "name1=\"Bat,women\""
   ]
  },
  {
   "cell_type": "code",
   "execution_count": 41,
   "id": "f5315ef9",
   "metadata": {},
   "outputs": [
    {
     "name": "stdout",
     "output_type": "stream",
     "text": [
      "['Bat', 'women']\n"
     ]
    }
   ],
   "source": [
    "print(name1.split(\",\"))"
   ]
  },
  {
   "cell_type": "code",
   "execution_count": 42,
   "id": "b28fca10",
   "metadata": {},
   "outputs": [
    {
     "data": {
      "text/plain": [
       "'abcdef'"
      ]
     },
     "execution_count": 42,
     "metadata": {},
     "output_type": "execute_result"
    }
   ],
   "source": [
    "a='abc'\n",
    "b='def'\n",
    "a+b"
   ]
  },
  {
   "cell_type": "code",
   "execution_count": 44,
   "id": "28d52e9e",
   "metadata": {},
   "outputs": [
    {
     "data": {
      "text/plain": [
       "'abc def'"
      ]
     },
     "execution_count": 44,
     "metadata": {},
     "output_type": "execute_result"
    }
   ],
   "source": [
    "a+\" \"+b"
   ]
  },
  {
   "cell_type": "code",
   "execution_count": null,
   "id": "fc21d341",
   "metadata": {},
   "outputs": [],
   "source": [
    "print(input(\"Enter a number\"))"
   ]
  },
  {
   "cell_type": "code",
   "execution_count": null,
   "id": "632f1d1f",
   "metadata": {},
   "outputs": [],
   "source": []
  }
 ],
 "metadata": {
  "kernelspec": {
   "display_name": "Python 3 (ipykernel)",
   "language": "python",
   "name": "python3"
  },
  "language_info": {
   "codemirror_mode": {
    "name": "ipython",
    "version": 3
   },
   "file_extension": ".py",
   "mimetype": "text/x-python",
   "name": "python",
   "nbconvert_exporter": "python",
   "pygments_lexer": "ipython3",
   "version": "3.11.4"
  }
 },
 "nbformat": 4,
 "nbformat_minor": 5
}
